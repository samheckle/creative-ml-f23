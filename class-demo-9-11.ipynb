{
 "cells": [
  {
   "cell_type": "markdown",
   "id": "923a2f06",
   "metadata": {},
   "source": [
    "this is a markdown cell"
   ]
  },
  {
   "cell_type": "code",
   "execution_count": 1,
   "id": "0fd8f617",
   "metadata": {},
   "outputs": [],
   "source": [
    "# this is a comment in a code cell"
   ]
  },
  {
   "cell_type": "code",
   "execution_count": 2,
   "id": "1ecc9cc4",
   "metadata": {},
   "outputs": [
    {
     "data": {
      "text/plain": [
       "6"
      ]
     },
     "execution_count": 2,
     "metadata": {},
     "output_type": "execute_result"
    }
   ],
   "source": [
    "1 + 5 # addition operator"
   ]
  },
  {
   "cell_type": "code",
   "execution_count": 4,
   "id": "0b23d889",
   "metadata": {},
   "outputs": [],
   "source": [
    "x = 10"
   ]
  },
  {
   "cell_type": "code",
   "execution_count": 5,
   "id": "20e5d208",
   "metadata": {},
   "outputs": [
    {
     "data": {
      "text/plain": [
       "10"
      ]
     },
     "execution_count": 5,
     "metadata": {},
     "output_type": "execute_result"
    }
   ],
   "source": [
    "x"
   ]
  },
  {
   "cell_type": "code",
   "execution_count": 6,
   "id": "3d187d3e",
   "metadata": {},
   "outputs": [],
   "source": [
    "x = x + 20"
   ]
  },
  {
   "cell_type": "code",
   "execution_count": 7,
   "id": "abdb5bb2",
   "metadata": {},
   "outputs": [
    {
     "data": {
      "text/plain": [
       "30"
      ]
     },
     "execution_count": 7,
     "metadata": {},
     "output_type": "execute_result"
    }
   ],
   "source": [
    "x # integer -- int"
   ]
  },
  {
   "cell_type": "code",
   "execution_count": 8,
   "id": "e253b8c2",
   "metadata": {},
   "outputs": [],
   "source": [
    "y = 2.0"
   ]
  },
  {
   "cell_type": "code",
   "execution_count": 9,
   "id": "f01af28e",
   "metadata": {},
   "outputs": [
    {
     "data": {
      "text/plain": [
       "2.0"
      ]
     },
     "execution_count": 9,
     "metadata": {},
     "output_type": "execute_result"
    }
   ],
   "source": [
    "y # float -- always has a decimal place"
   ]
  },
  {
   "cell_type": "code",
   "execution_count": 10,
   "id": "82250713",
   "metadata": {},
   "outputs": [],
   "source": [
    "text = \"this is a string\""
   ]
  },
  {
   "cell_type": "code",
   "execution_count": 11,
   "id": "85fd2a98",
   "metadata": {},
   "outputs": [
    {
     "data": {
      "text/plain": [
       "'this is a string'"
      ]
     },
     "execution_count": 11,
     "metadata": {},
     "output_type": "execute_result"
    }
   ],
   "source": [
    "text"
   ]
  },
  {
   "cell_type": "code",
   "execution_count": 12,
   "id": "5ad23884",
   "metadata": {},
   "outputs": [
    {
     "data": {
      "text/plain": [
       "'cat meows'"
      ]
     },
     "execution_count": 12,
     "metadata": {},
     "output_type": "execute_result"
    }
   ],
   "source": [
    "\"cat \" + \"meows\""
   ]
  },
  {
   "cell_type": "code",
   "execution_count": 15,
   "id": "aa9686bc",
   "metadata": {},
   "outputs": [
    {
     "data": {
      "text/plain": [
       "'cat meow'"
      ]
     },
     "execution_count": 15,
     "metadata": {},
     "output_type": "execute_result"
    }
   ],
   "source": [
    "cat_str = \"cat \"\n",
    "meow_str = \"meow\"\n",
    "\n",
    "cat_str + meow_str"
   ]
  },
  {
   "cell_type": "code",
   "execution_count": 16,
   "id": "c513c5f8",
   "metadata": {},
   "outputs": [
    {
     "data": {
      "text/plain": [
       "30"
      ]
     },
     "execution_count": 16,
     "metadata": {},
     "output_type": "execute_result"
    }
   ],
   "source": [
    "x"
   ]
  },
  {
   "cell_type": "code",
   "execution_count": 17,
   "id": "061c50ed",
   "metadata": {},
   "outputs": [
    {
     "data": {
      "text/plain": [
       "2.0"
      ]
     },
     "execution_count": 17,
     "metadata": {},
     "output_type": "execute_result"
    }
   ],
   "source": [
    "y"
   ]
  },
  {
   "cell_type": "code",
   "execution_count": 18,
   "id": "31b80cc7",
   "metadata": {},
   "outputs": [
    {
     "data": {
      "text/plain": [
       "32.0"
      ]
     },
     "execution_count": 18,
     "metadata": {},
     "output_type": "execute_result"
    }
   ],
   "source": [
    "x + y"
   ]
  },
  {
   "cell_type": "code",
   "execution_count": 20,
   "id": "ffd804f6",
   "metadata": {},
   "outputs": [
    {
     "data": {
      "text/plain": [
       "False"
      ]
     },
     "execution_count": 20,
     "metadata": {},
     "output_type": "execute_result"
    }
   ],
   "source": [
    "10 < 7"
   ]
  },
  {
   "cell_type": "code",
   "execution_count": 21,
   "id": "cabf81f9",
   "metadata": {},
   "outputs": [
    {
     "data": {
      "text/plain": [
       "False"
      ]
     },
     "execution_count": 21,
     "metadata": {},
     "output_type": "execute_result"
    }
   ],
   "source": [
    "\"horse\" in \"carriage\""
   ]
  },
  {
   "cell_type": "code",
   "execution_count": 22,
   "id": "c3feed9d",
   "metadata": {},
   "outputs": [
    {
     "data": {
      "text/plain": [
       "True"
      ]
     },
     "execution_count": 22,
     "metadata": {},
     "output_type": "execute_result"
    }
   ],
   "source": [
    "\"foo\" in \"foodie\""
   ]
  },
  {
   "cell_type": "code",
   "execution_count": 23,
   "id": "144eb5c4",
   "metadata": {},
   "outputs": [
    {
     "ename": "TypeError",
     "evalue": "can only concatenate str (not \"int\") to str",
     "output_type": "error",
     "traceback": [
      "\u001b[0;31m---------------------------------------------------------------------------\u001b[0m",
      "\u001b[0;31mTypeError\u001b[0m                                 Traceback (most recent call last)",
      "Cell \u001b[0;32mIn[23], line 1\u001b[0m\n\u001b[0;32m----> 1\u001b[0m \u001b[38;5;124m\"\u001b[39m\u001b[38;5;124mthis is a string\u001b[39m\u001b[38;5;124m\"\u001b[39m \u001b[38;5;241m+\u001b[39m \u001b[38;5;241m5\u001b[39m\n",
      "\u001b[0;31mTypeError\u001b[0m: can only concatenate str (not \"int\") to str"
     ]
    }
   ],
   "source": [
    "\"this is a string\" + 5"
   ]
  },
  {
   "cell_type": "code",
   "execution_count": 24,
   "id": "30fbe3f3",
   "metadata": {},
   "outputs": [
    {
     "data": {
      "text/plain": [
       "'this is a string5'"
      ]
     },
     "execution_count": 24,
     "metadata": {},
     "output_type": "execute_result"
    }
   ],
   "source": [
    "\"this is a string\" + \"5\""
   ]
  },
  {
   "cell_type": "code",
   "execution_count": 26,
   "id": "69b7d3e3",
   "metadata": {},
   "outputs": [],
   "source": [
    "another_variable = 5 * 10"
   ]
  },
  {
   "cell_type": "code",
   "execution_count": 27,
   "id": "93f2b057",
   "metadata": {},
   "outputs": [
    {
     "data": {
      "text/plain": [
       "50"
      ]
     },
     "execution_count": 27,
     "metadata": {},
     "output_type": "execute_result"
    }
   ],
   "source": [
    "another_variable"
   ]
  },
  {
   "cell_type": "code",
   "execution_count": 28,
   "id": "292a49e0",
   "metadata": {},
   "outputs": [
    {
     "data": {
      "text/plain": [
       "50"
      ]
     },
     "execution_count": 28,
     "metadata": {},
     "output_type": "execute_result"
    }
   ],
   "source": [
    "another_variable = 5 * 10\n",
    "another_variable"
   ]
  },
  {
   "cell_type": "code",
   "execution_count": 30,
   "id": "e20d7964",
   "metadata": {},
   "outputs": [
    {
     "data": {
      "text/plain": [
       "str"
      ]
     },
     "execution_count": 30,
     "metadata": {},
     "output_type": "execute_result"
    }
   ],
   "source": [
    "type(\"this is a string\")"
   ]
  },
  {
   "cell_type": "code",
   "execution_count": 31,
   "id": "d15f028e",
   "metadata": {},
   "outputs": [
    {
     "data": {
      "text/plain": [
       "int"
      ]
     },
     "execution_count": 31,
     "metadata": {},
     "output_type": "execute_result"
    }
   ],
   "source": [
    "type(5)"
   ]
  },
  {
   "cell_type": "code",
   "execution_count": 32,
   "id": "b419e01e",
   "metadata": {},
   "outputs": [
    {
     "data": {
      "text/plain": [
       "int"
      ]
     },
     "execution_count": 32,
     "metadata": {},
     "output_type": "execute_result"
    }
   ],
   "source": [
    "type(another_variable)"
   ]
  },
  {
   "cell_type": "code",
   "execution_count": 33,
   "id": "e7d8c571",
   "metadata": {},
   "outputs": [
    {
     "data": {
      "text/plain": [
       "str"
      ]
     },
     "execution_count": 33,
     "metadata": {},
     "output_type": "execute_result"
    }
   ],
   "source": [
    "str5 = \"this is a string\" + \"5\"\n",
    "\n",
    "type(str5)"
   ]
  },
  {
   "cell_type": "markdown",
   "id": "13b68e0b",
   "metadata": {},
   "source": [
    "i pulled the robert frost poem two roads"
   ]
  },
  {
   "cell_type": "code",
   "execution_count": 47,
   "id": "70eaffa6",
   "metadata": {},
   "outputs": [],
   "source": [
    "full_text = open(\"frost1.txt\")\n",
    "read_full_text = full_text.read()\n",
    "\n",
    "# open(\"frost1.txt\").read()"
   ]
  },
  {
   "cell_type": "code",
   "execution_count": 50,
   "id": "c28b4791",
   "metadata": {},
   "outputs": [],
   "source": [
    "full = open(\"frost1.txt\").read()"
   ]
  },
  {
   "cell_type": "code",
   "execution_count": 37,
   "id": "58f10be9",
   "metadata": {},
   "outputs": [
    {
     "name": "stdout",
     "output_type": "stream",
     "text": [
      "word\n"
     ]
    }
   ],
   "source": [
    "print(\"word\")"
   ]
  },
  {
   "cell_type": "code",
   "execution_count": 51,
   "id": "2baaeb48",
   "metadata": {},
   "outputs": [
    {
     "name": "stdout",
     "output_type": "stream",
     "text": [
      "Two roads diverged in a yellow wood,\n",
      "And sorry I could not travel both\n",
      "And be one traveler, long I stood\n",
      "And looked down one as far as I could\n",
      "To where it bent in the undergrowth;\n",
      "\n",
      "Then took the other, as just as fair,\n",
      "And having perhaps the better claim,\n",
      "Because it was grassy and wanted wear;\n",
      "Though as for that the passing there\n",
      "Had worn them really about the same,\n",
      "\n",
      "And both that morning equally lay\n",
      "In leaves no step had trodden black.\n",
      "Oh, I kept the first for another day!\n",
      "Yet knowing how way leads on to way,\n",
      "I doubted if I should ever come back.\n",
      "\n",
      "I shall be telling this with a sigh\n",
      "Somewhere ages and ages hence:\n",
      "Two roads diverged in a wood, and I—\n",
      "I took the one less traveled by,\n",
      "And that has made all the difference.\n"
     ]
    }
   ],
   "source": [
    "print(full)"
   ]
  },
  {
   "cell_type": "code",
   "execution_count": 52,
   "id": "163fbd1a",
   "metadata": {},
   "outputs": [
    {
     "data": {
      "text/plain": [
       "'Two roads diverged in a yellow wood,\\nAnd sorry I could not travel both\\nAnd be one traveler, long I stood\\nAnd looked down one as far as I could\\nTo where it bent in the undergrowth;\\n\\nThen took the other, as just as fair,\\nAnd having perhaps the better claim,\\nBecause it was grassy and wanted wear;\\nThough as for that the passing there\\nHad worn them really about the same,\\n\\nAnd both that morning equally lay\\nIn leaves no step had trodden black.\\nOh, I kept the first for another day!\\nYet knowing how way leads on to way,\\nI doubted if I should ever come back.\\n\\nI shall be telling this with a sigh\\nSomewhere ages and ages hence:\\nTwo roads diverged in a wood, and I—\\nI took the one less traveled by,\\nAnd that has made all the difference.'"
      ]
     },
     "execution_count": 52,
     "metadata": {},
     "output_type": "execute_result"
    }
   ],
   "source": [
    "full"
   ]
  },
  {
   "cell_type": "code",
   "execution_count": 54,
   "id": "935e675d",
   "metadata": {},
   "outputs": [
    {
     "data": {
      "text/plain": [
       "'he said, \"she said something else\"'"
      ]
     },
     "execution_count": 54,
     "metadata": {},
     "output_type": "execute_result"
    }
   ],
   "source": [
    "str_escaped = \"he said, \\\"she said something else\\\"\"\n",
    "str_escaped "
   ]
  },
  {
   "cell_type": "code",
   "execution_count": 56,
   "id": "e8d31110",
   "metadata": {},
   "outputs": [
    {
     "name": "stdout",
     "output_type": "stream",
     "text": [
      "he said, \"she said something else\"\n"
     ]
    }
   ],
   "source": [
    "print(str_escaped)"
   ]
  },
  {
   "cell_type": "code",
   "execution_count": 58,
   "id": "642db1d6",
   "metadata": {},
   "outputs": [
    {
     "name": "stdout",
     "output_type": "stream",
     "text": [
      "this is a line\n",
      "this is another line\n"
     ]
    }
   ],
   "source": [
    "str_newline = \"this is a line\\nthis is another line\"\n",
    "print(str_newline)"
   ]
  },
  {
   "cell_type": "code",
   "execution_count": 59,
   "id": "1711baca",
   "metadata": {},
   "outputs": [
    {
     "data": {
      "text/plain": [
       "'this is a line\\nthis is another line'"
      ]
     },
     "execution_count": 59,
     "metadata": {},
     "output_type": "execute_result"
    }
   ],
   "source": [
    "str_newline = \"this is a line\\nthis is another line\"\n",
    "str_newline"
   ]
  },
  {
   "cell_type": "code",
   "execution_count": 60,
   "id": "476438f6",
   "metadata": {},
   "outputs": [
    {
     "name": "stdout",
     "output_type": "stream",
     "text": [
      "hello \t hello\n"
     ]
    }
   ],
   "source": [
    "str_tab = \"hello \\t hello\"\n",
    "print(str_tab)"
   ]
  },
  {
   "cell_type": "markdown",
   "id": "ab63a43a",
   "metadata": {},
   "source": [
    "# string analysis"
   ]
  },
  {
   "cell_type": "code",
   "execution_count": 61,
   "id": "4f02f417",
   "metadata": {},
   "outputs": [
    {
     "data": {
      "text/plain": [
       "29"
      ]
     },
     "execution_count": 61,
     "metadata": {},
     "output_type": "execute_result"
    }
   ],
   "source": [
    "len(\"the number of characters is: \")"
   ]
  },
  {
   "cell_type": "code",
   "execution_count": 63,
   "id": "06529c86",
   "metadata": {},
   "outputs": [
    {
     "data": {
      "text/plain": [
       "13"
      ]
     },
     "execution_count": 63,
     "metadata": {},
     "output_type": "execute_result"
    }
   ],
   "source": [
    "len(\"cheese\") + len(\"cottage\")"
   ]
  },
  {
   "cell_type": "code",
   "execution_count": 83,
   "id": "87bedfdf",
   "metadata": {},
   "outputs": [
    {
     "data": {
      "text/plain": [
       "729"
      ]
     },
     "execution_count": 83,
     "metadata": {},
     "output_type": "execute_result"
    }
   ],
   "source": [
    "len(full)"
   ]
  },
  {
   "cell_type": "code",
   "execution_count": 64,
   "id": "29230322",
   "metadata": {},
   "outputs": [
    {
     "data": {
      "text/plain": [
       "True"
      ]
     },
     "execution_count": 64,
     "metadata": {},
     "output_type": "execute_result"
    }
   ],
   "source": [
    "\"foodie\".startswith(\"foo\")"
   ]
  },
  {
   "cell_type": "code",
   "execution_count": 65,
   "id": "7ffd0901",
   "metadata": {},
   "outputs": [
    {
     "data": {
      "text/plain": [
       "False"
      ]
     },
     "execution_count": 65,
     "metadata": {},
     "output_type": "execute_result"
    }
   ],
   "source": [
    "\"foodie\".endswith(\"y\")"
   ]
  },
  {
   "cell_type": "code",
   "execution_count": 66,
   "id": "c01a215e",
   "metadata": {},
   "outputs": [
    {
     "data": {
      "text/plain": [
       "26"
      ]
     },
     "execution_count": 66,
     "metadata": {},
     "output_type": "execute_result"
    }
   ],
   "source": [
    "\"Barbie is actually not in love with ken (spoilers)\".find(\"love\")"
   ]
  },
  {
   "cell_type": "code",
   "execution_count": 69,
   "id": "695aa256",
   "metadata": {},
   "outputs": [
    {
     "data": {
      "text/plain": [
       "-1"
      ]
     },
     "execution_count": 69,
     "metadata": {},
     "output_type": "execute_result"
    }
   ],
   "source": [
    "\"Barbie is actually not in love with ken (spoilers)\".find(\"Alan\")"
   ]
  },
  {
   "cell_type": "code",
   "execution_count": 71,
   "id": "7b93f09a",
   "metadata": {},
   "outputs": [
    {
     "data": {
      "text/plain": [
       "2"
      ]
     },
     "execution_count": 71,
     "metadata": {},
     "output_type": "execute_result"
    }
   ],
   "source": [
    "full.count(\"wood\")"
   ]
  },
  {
   "cell_type": "code",
   "execution_count": 72,
   "id": "4c1fab01",
   "metadata": {},
   "outputs": [
    {
     "name": "stdout",
     "output_type": "stream",
     "text": [
      "Two roads diverged in a yellow wood,\n",
      "And sorry I could not travel both\n",
      "And be one traveler, long I stood\n",
      "And looked down one as far as I could\n",
      "To where it bent in the undergrowth;\n",
      "\n",
      "Then took the other, as just as fair,\n",
      "And having perhaps the better claim,\n",
      "Because it was grassy and wanted wear;\n",
      "Though as for that the passing there\n",
      "Had worn them really about the same,\n",
      "\n",
      "And both that morning equally lay\n",
      "In leaves no step had trodden black.\n",
      "Oh, I kept the first for another day!\n",
      "Yet knowing how way leads on to way,\n",
      "I doubted if I should ever come back.\n",
      "\n",
      "I shall be telling this with a sigh\n",
      "Somewhere ages and ages hence:\n",
      "Two roads diverged in a wood, and I—\n",
      "I took the one less traveled by,\n",
      "And that has made all the difference.\n"
     ]
    }
   ],
   "source": [
    "print(full)"
   ]
  },
  {
   "cell_type": "markdown",
   "id": "18ea74db",
   "metadata": {},
   "source": [
    "# string transformations"
   ]
  },
  {
   "cell_type": "code",
   "execution_count": 73,
   "id": "b1454437",
   "metadata": {},
   "outputs": [
    {
     "data": {
      "text/plain": [
       "'hello my name is sam'"
      ]
     },
     "execution_count": 73,
     "metadata": {},
     "output_type": "execute_result"
    }
   ],
   "source": [
    "\"HELLO MY NAME IS SAM\".lower()"
   ]
  },
  {
   "cell_type": "code",
   "execution_count": 74,
   "id": "4ddfc7e1",
   "metadata": {},
   "outputs": [
    {
     "data": {
      "text/plain": [
       "'TWO ROADS DIVERGED IN A YELLOW WOOD,\\nAND SORRY I COULD NOT TRAVEL BOTH\\nAND BE ONE TRAVELER, LONG I STOOD\\nAND LOOKED DOWN ONE AS FAR AS I COULD\\nTO WHERE IT BENT IN THE UNDERGROWTH;\\n\\nTHEN TOOK THE OTHER, AS JUST AS FAIR,\\nAND HAVING PERHAPS THE BETTER CLAIM,\\nBECAUSE IT WAS GRASSY AND WANTED WEAR;\\nTHOUGH AS FOR THAT THE PASSING THERE\\nHAD WORN THEM REALLY ABOUT THE SAME,\\n\\nAND BOTH THAT MORNING EQUALLY LAY\\nIN LEAVES NO STEP HAD TRODDEN BLACK.\\nOH, I KEPT THE FIRST FOR ANOTHER DAY!\\nYET KNOWING HOW WAY LEADS ON TO WAY,\\nI DOUBTED IF I SHOULD EVER COME BACK.\\n\\nI SHALL BE TELLING THIS WITH A SIGH\\nSOMEWHERE AGES AND AGES HENCE:\\nTWO ROADS DIVERGED IN A WOOD, AND I—\\nI TOOK THE ONE LESS TRAVELED BY,\\nAND THAT HAS MADE ALL THE DIFFERENCE.'"
      ]
     },
     "execution_count": 74,
     "metadata": {},
     "output_type": "execute_result"
    }
   ],
   "source": [
    "full.upper()"
   ]
  },
  {
   "cell_type": "code",
   "execution_count": 75,
   "id": "ac67ff6b",
   "metadata": {},
   "outputs": [
    {
     "data": {
      "text/plain": [
       "'It Was Grassy And Wanted Wear'"
      ]
     },
     "execution_count": 75,
     "metadata": {},
     "output_type": "execute_result"
    }
   ],
   "source": [
    "\"it was grassy and wanted wear\".title()"
   ]
  },
  {
   "cell_type": "code",
   "execution_count": 76,
   "id": "74b41c8e",
   "metadata": {},
   "outputs": [
    {
     "data": {
      "text/plain": [
       "'         it was grassy and wanted wear           '"
      ]
     },
     "execution_count": 76,
     "metadata": {},
     "output_type": "execute_result"
    }
   ],
   "source": [
    "\"         it was grassy and wanted wear           \""
   ]
  },
  {
   "cell_type": "code",
   "execution_count": 77,
   "id": "a992cbf4",
   "metadata": {},
   "outputs": [
    {
     "data": {
      "text/plain": [
       "'it was grassy and wanted wear'"
      ]
     },
     "execution_count": 77,
     "metadata": {},
     "output_type": "execute_result"
    }
   ],
   "source": [
    "\"         it was grassy and wanted wear           \".strip()"
   ]
  },
  {
   "cell_type": "code",
   "execution_count": 78,
   "id": "ea2df357",
   "metadata": {},
   "outputs": [
    {
     "name": "stdout",
     "output_type": "stream",
     "text": [
      "Two roads diverged in a yellow wood,\n",
      "And sorry I could not travel both\n",
      "And be one traveler, long I stood\n",
      "And looked down one as far as I could\n",
      "To where it bent in the undergrowth;\n",
      "\n",
      "Then took the other, as just as fair,\n",
      "And having perhaps the better claim,\n",
      "Because it was grassy and wanted wear;\n",
      "Though as for that the passing there\n",
      "Had worn them really about the same,\n",
      "\n",
      "And both that morning equally lay\n",
      "In leaves no step had trodden black.\n",
      "Oh, I kept the first for another day!\n",
      "Yet knowing how way leads on to way,\n",
      "I doubted if I should ever come back.\n",
      "\n",
      "I shall be telling this with a sigh\n",
      "Somewhere ages and ages hence:\n",
      "Two roads diverged in a wood, and I—\n",
      "I took the one less traveled by,\n",
      "And that has made all the difference.\n"
     ]
    }
   ],
   "source": [
    "print(full)"
   ]
  },
  {
   "cell_type": "code",
   "execution_count": 82,
   "id": "7c715e29",
   "metadata": {},
   "outputs": [
    {
     "name": "stdout",
     "output_type": "stream",
     "text": [
      "Twooooooooo roooooooooads diverged in a yellooooooooow wooooooooooooooooood,\n",
      "And sooooooooorry I cooooooooould nooooooooot travel boooooooooth\n",
      "And be ooooooooone traveler, looooooooong I stooooooooooooooooood\n",
      "And looooooooooooooooooked dooooooooown ooooooooone as far as I cooooooooould\n",
      "Tooooooooo where it bent in the undergrooooooooowth;\n",
      "\n",
      "Then tooooooooooooooooook the ooooooooother, as just as fair,\n",
      "And having perhaps the better claim,\n",
      "Because it was grassy and wanted wear;\n",
      "Thooooooooough as fooooooooor that the passing there\n",
      "Had wooooooooorn them really abooooooooout the same,\n",
      "\n",
      "And boooooooooth that mooooooooorning equally lay\n",
      "In leaves nooooooooo step had trooooooooodden black.\n",
      "Oh, I kept the first fooooooooor anooooooooother day!\n",
      "Yet knooooooooowing hooooooooow way leads ooooooooon tooooooooo way,\n",
      "I doooooooooubted if I shooooooooould ever cooooooooome back.\n",
      "\n",
      "I shall be telling this with a sigh\n",
      "Sooooooooomewhere ages and ages hence:\n",
      "Twooooooooo roooooooooads diverged in a wooooooooooooooooood, and I—\n",
      "I tooooooooooooooooook the ooooooooone less traveled by,\n",
      "And that has made all the difference.\n"
     ]
    }
   ],
   "source": [
    "replaced_o = full.replace(\"o\", \"ooooooooo\")\n",
    "print(replaced_o)"
   ]
  },
  {
   "cell_type": "markdown",
   "id": "ee3f0309",
   "metadata": {},
   "source": [
    "pulling in contents from string"
   ]
  },
  {
   "cell_type": "code",
   "execution_count": 84,
   "id": "256ef87a",
   "metadata": {},
   "outputs": [
    {
     "name": "stdout",
     "output_type": "stream",
     "text": [
      "Two roads diverged in a yellow wood,\n",
      "And sorry I could not travel both\n",
      "And be one traveler, long I stood\n",
      "And looked down one as far as I could\n",
      "To where it bent in the undergrowth;\n",
      "\n",
      "Then took the other, as just as fair,\n",
      "And having perhaps the better claim,\n",
      "Because it was grassy and wanted wear;\n",
      "Though as for that the passing there\n",
      "Had worn them really about the same,\n",
      "\n",
      "And both that morning equally lay\n",
      "In leaves no step had trodden black.\n",
      "Oh, I kept the first for another day!\n",
      "Yet knowing how way leads on to way,\n",
      "I doubted if I should ever come back.\n",
      "\n",
      "I shall be telling this with a sigh\n",
      "Somewhere ages and ages hence:\n",
      "Two roads diverged in a wood, and I—\n",
      "I took the one less traveled by,\n",
      "And that has made all the difference.\n"
     ]
    }
   ],
   "source": [
    "print(full)"
   ]
  },
  {
   "cell_type": "code",
   "execution_count": 86,
   "id": "05c4f7bc",
   "metadata": {},
   "outputs": [
    {
     "name": "stdout",
     "output_type": "stream",
     "text": [
      "tWO ROADS DIVERGED IN A YELLOW WOOD,\n",
      "aND SORRY i COULD NOT TRAVEL BOTH\n",
      "aND BE ONE TRAVELER, LONG i STOOD\n",
      "aND LOOKED DOWN ONE AS FAR AS i COULD\n",
      "tO WHERE IT BENT IN THE UNDERGROWTH;\n",
      "\n",
      "tHEN TOOK THE OTHER, AS JUST AS FAIR,\n",
      "aND HAVING PERHAPS THE BETTER CLAIM,\n",
      "bECAUSE IT WAS GRASSY AND WANTED WEAR;\n",
      "tHOUGH AS FOR THAT THE PASSING THERE\n",
      "hAD WORN THEM REALLY ABOUT THE SAME,\n",
      "\n",
      "aND BOTH THAT MORNING EQUALLY LAY\n",
      "iN LEAVES NO STEP HAD TRODDEN BLACK.\n",
      "oH, i KEPT THE FIRST FOR ANOTHER DAY!\n",
      "yET KNOWING HOW WAY LEADS ON TO WAY,\n",
      "i DOUBTED IF i SHOULD EVER COME BACK.\n",
      "\n",
      "i SHALL BE TELLING THIS WITH A SIGH\n",
      "sOMEWHERE AGES AND AGES HENCE:\n",
      "tWO ROADS DIVERGED IN A WOOD, AND i—\n",
      "i TOOK THE ONE LESS TRAVELED BY,\n",
      "aND THAT HAS MADE ALL THE DIFFERENCE.\n"
     ]
    }
   ],
   "source": [
    "print(full.swapcase())"
   ]
  },
  {
   "cell_type": "markdown",
   "id": "632e06fd",
   "metadata": {},
   "source": [
    "# string indexing"
   ]
  },
  {
   "cell_type": "code",
   "execution_count": 87,
   "id": "a971278a",
   "metadata": {},
   "outputs": [
    {
     "data": {
      "text/plain": [
       "'o'"
      ]
     },
     "execution_count": 87,
     "metadata": {},
     "output_type": "execute_result"
    }
   ],
   "source": [
    "\"house\"[1]"
   ]
  },
  {
   "cell_type": "code",
   "execution_count": 88,
   "id": "00efdbc6",
   "metadata": {},
   "outputs": [
    {
     "data": {
      "text/plain": [
       "'o'"
      ]
     },
     "execution_count": 88,
     "metadata": {},
     "output_type": "execute_result"
    }
   ],
   "source": [
    "str_index = \"house\"\n",
    "str_index[1]"
   ]
  },
  {
   "cell_type": "code",
   "execution_count": 89,
   "id": "31d999f8",
   "metadata": {},
   "outputs": [
    {
     "data": {
      "text/plain": [
       "'e'"
      ]
     },
     "execution_count": 89,
     "metadata": {},
     "output_type": "execute_result"
    }
   ],
   "source": [
    "str_index[-1]"
   ]
  },
  {
   "cell_type": "code",
   "execution_count": 95,
   "id": "6b9a53e1",
   "metadata": {},
   "outputs": [
    {
     "data": {
      "text/plain": [
       "'.'"
      ]
     },
     "execution_count": 95,
     "metadata": {},
     "output_type": "execute_result"
    }
   ],
   "source": [
    "full[-1]\n",
    "\n",
    "full[len(full)-1]"
   ]
  },
  {
   "cell_type": "code",
   "execution_count": 91,
   "id": "cadacf81",
   "metadata": {},
   "outputs": [
    {
     "ename": "IndexError",
     "evalue": "string index out of range",
     "output_type": "error",
     "traceback": [
      "\u001b[0;31m---------------------------------------------------------------------------\u001b[0m",
      "\u001b[0;31mIndexError\u001b[0m                                Traceback (most recent call last)",
      "Cell \u001b[0;32mIn[91], line 1\u001b[0m\n\u001b[0;32m----> 1\u001b[0m str_index[\u001b[38;5;241m5\u001b[39m]\n",
      "\u001b[0;31mIndexError\u001b[0m: string index out of range"
     ]
    }
   ],
   "source": [
    "str_index[5]"
   ]
  },
  {
   "cell_type": "code",
   "execution_count": 92,
   "id": "43866d0a",
   "metadata": {},
   "outputs": [
    {
     "data": {
      "text/plain": [
       "5"
      ]
     },
     "execution_count": 92,
     "metadata": {},
     "output_type": "execute_result"
    }
   ],
   "source": [
    "len(str_index)"
   ]
  },
  {
   "cell_type": "code",
   "execution_count": 93,
   "id": "72d5cd2a",
   "metadata": {},
   "outputs": [
    {
     "data": {
      "text/plain": [
       "'r'"
      ]
     },
     "execution_count": 93,
     "metadata": {},
     "output_type": "execute_result"
    }
   ],
   "source": [
    "str_index2 = \"this is a longer string that uses the word house\"\n",
    "str_index2[3*5]"
   ]
  },
  {
   "cell_type": "code",
   "execution_count": 94,
   "id": "9811be04",
   "metadata": {},
   "outputs": [
    {
     "data": {
      "text/plain": [
       "'i'"
      ]
     },
     "execution_count": 94,
     "metadata": {},
     "output_type": "execute_result"
    }
   ],
   "source": [
    "letter = 5\n",
    "str_index2[letter]"
   ]
  },
  {
   "cell_type": "code",
   "execution_count": 98,
   "id": "6c8ad734",
   "metadata": {},
   "outputs": [
    {
     "data": {
      "text/plain": [
       "'this'"
      ]
     },
     "execution_count": 98,
     "metadata": {},
     "output_type": "execute_result"
    }
   ],
   "source": [
    "str_index2[0:4]"
   ]
  },
  {
   "cell_type": "code",
   "execution_count": 99,
   "id": "1822f93c",
   "metadata": {
    "scrolled": false
   },
   "outputs": [
    {
     "name": "stdout",
     "output_type": "stream",
     "text": [
      "Two roads diverged in a yellow wood,\n",
      "And sorry I could not travel both\n",
      "And be one traveler, long I stood\n",
      "And looked down one as far as I could\n",
      "To where it bent in the undergrowth;\n",
      "\n",
      "Then took the other, as just as fair,\n",
      "And having perhaps the better claim,\n",
      "Because it was grassy and wanted wear;\n",
      "Though as for that the passing there\n",
      "Had worn them really about the same,\n",
      "\n",
      "And both that morning equally lay\n",
      "In leaves no step had trodden black.\n",
      "Oh, I kept the first for another day!\n",
      "Yet knowing how way leads on to way,\n",
      "I doubted if I should ever come back.\n",
      "\n",
      "I shall be telling this with a sigh\n",
      "Somewhere ages and ages hence:\n",
      "Two roads diverged in a wood, and I—\n",
      "I took the one less traveled by,\n",
      "And that has made all the difference.\n"
     ]
    }
   ],
   "source": [
    "print(full)"
   ]
  },
  {
   "cell_type": "code",
   "execution_count": 100,
   "id": "e3bcf442",
   "metadata": {},
   "outputs": [
    {
     "data": {
      "text/plain": [
       "35"
      ]
     },
     "execution_count": 100,
     "metadata": {},
     "output_type": "execute_result"
    }
   ],
   "source": [
    "# find finds the FIRST existance of a particular character \n",
    "full.find(',')"
   ]
  },
  {
   "cell_type": "code",
   "execution_count": 106,
   "id": "403606e1",
   "metadata": {},
   "outputs": [
    {
     "data": {
      "text/plain": [
       "'Two roads diverged in a yellow wood'"
      ]
     },
     "execution_count": 106,
     "metadata": {},
     "output_type": "execute_result"
    }
   ],
   "source": [
    "# gets the entire first line\n",
    "# character 0 is the first character\n",
    "# character 35 is what we calculated by finding the comma from the first line\n",
    "full[0:35]"
   ]
  },
  {
   "cell_type": "code",
   "execution_count": 107,
   "id": "d9fba266",
   "metadata": {},
   "outputs": [
    {
     "data": {
      "text/plain": [
       "'Two roads diverged in a yellow wood'"
      ]
     },
     "execution_count": 107,
     "metadata": {},
     "output_type": "execute_result"
    }
   ],
   "source": [
    "full[:35]"
   ]
  },
  {
   "cell_type": "code",
   "execution_count": 102,
   "id": "11ff337a",
   "metadata": {},
   "outputs": [
    {
     "data": {
      "text/plain": [
       "178"
      ]
     },
     "execution_count": 102,
     "metadata": {},
     "output_type": "execute_result"
    }
   ],
   "source": [
    "full.find(';')"
   ]
  },
  {
   "cell_type": "code",
   "execution_count": 103,
   "id": "bd9ce1da",
   "metadata": {},
   "outputs": [
    {
     "data": {
      "text/plain": [
       "142"
      ]
     },
     "execution_count": 103,
     "metadata": {},
     "output_type": "execute_result"
    }
   ],
   "source": [
    "full.find('\\nTo')"
   ]
  },
  {
   "cell_type": "code",
   "execution_count": 104,
   "id": "b2cda895",
   "metadata": {},
   "outputs": [
    {
     "data": {
      "text/plain": [
       "'\\nTo where it bent in the undergrowth'"
      ]
     },
     "execution_count": 104,
     "metadata": {},
     "output_type": "execute_result"
    }
   ],
   "source": [
    "full[142:178]"
   ]
  },
  {
   "cell_type": "code",
   "execution_count": 105,
   "id": "1f8c4012",
   "metadata": {},
   "outputs": [
    {
     "name": "stdout",
     "output_type": "stream",
     "text": [
      "Two roads diverged in a yellow wood\n",
      "To where it bent in the undergrowth\n"
     ]
    }
   ],
   "source": [
    "print(full[0:35] + full[142:178])"
   ]
  },
  {
   "cell_type": "code",
   "execution_count": 111,
   "id": "6bf221c1",
   "metadata": {},
   "outputs": [
    {
     "name": "stdout",
     "output_type": "stream",
     "text": [
      ";\n",
      "\n",
      "Then took the other, as just as fair,\n",
      "And having perhaps the better claim,\n",
      "Because it was grassy and wanted wear;\n",
      "Though as for that the passing there\n",
      "Had worn them really about the same,\n",
      "\n",
      "And both that morning equally lay\n",
      "In leaves no step had trodden black.\n",
      "Oh, I kept the first for another day!\n",
      "Yet knowing how way leads on to way,\n",
      "I doubted if I should ever come back.\n",
      "\n",
      "I shall be telling this with a sigh\n",
      "Somewhere ages and ages hence:\n",
      "Two roads diverged in a wood, and I—\n",
      "I took the one less traveled by,\n",
      "And that has made all the difference.\n"
     ]
    }
   ],
   "source": [
    "print(full[178:])"
   ]
  },
  {
   "cell_type": "code",
   "execution_count": 112,
   "id": "cb161048",
   "metadata": {},
   "outputs": [
    {
     "name": "stdout",
     "output_type": "stream",
     "text": [
      "the difference.\n"
     ]
    }
   ],
   "source": [
    "print(full[-15:])"
   ]
  },
  {
   "cell_type": "code",
   "execution_count": 113,
   "id": "facf11b5",
   "metadata": {},
   "outputs": [
    {
     "data": {
      "text/plain": [
       "692"
      ]
     },
     "execution_count": 113,
     "metadata": {},
     "output_type": "execute_result"
    }
   ],
   "source": [
    "full.find(\"And that has made all the difference.\")"
   ]
  },
  {
   "cell_type": "code",
   "execution_count": 116,
   "id": "79834b09",
   "metadata": {},
   "outputs": [
    {
     "name": "stdout",
     "output_type": "stream",
     "text": [
      "Two roads diverged in a yellow wood\n",
      "And that has made all the difference.\n"
     ]
    }
   ],
   "source": [
    "print(full[:35] + full[691:])"
   ]
  }
 ],
 "metadata": {
  "kernelspec": {
   "display_name": "Python 3 (ipykernel)",
   "language": "python",
   "name": "python3"
  },
  "language_info": {
   "codemirror_mode": {
    "name": "ipython",
    "version": 3
   },
   "file_extension": ".py",
   "mimetype": "text/x-python",
   "name": "python",
   "nbconvert_exporter": "python",
   "pygments_lexer": "ipython3",
   "version": "3.11.4"
  }
 },
 "nbformat": 4,
 "nbformat_minor": 5
}
