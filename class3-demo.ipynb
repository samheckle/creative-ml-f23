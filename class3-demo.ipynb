{
 "cells": [
  {
   "cell_type": "markdown",
   "id": "c17e77f9",
   "metadata": {},
   "source": [
    "# variables review\n",
    "\n",
    "assigned with \"=\""
   ]
  },
  {
   "cell_type": "code",
   "execution_count": 2,
   "id": "6b2f861c",
   "metadata": {},
   "outputs": [
    {
     "name": "stdout",
     "output_type": "stream",
     "text": [
      "10\n"
     ]
    }
   ],
   "source": [
    "x = 10\n",
    "print(x)"
   ]
  },
  {
   "cell_type": "code",
   "execution_count": 4,
   "id": "59a4ba6a",
   "metadata": {},
   "outputs": [
    {
     "data": {
      "text/plain": [
       "'banana\\nwalnut bread'"
      ]
     },
     "execution_count": 4,
     "metadata": {},
     "output_type": "execute_result"
    }
   ],
   "source": [
    "word = \"banana\\nwalnut bread\"\n",
    "word"
   ]
  },
  {
   "cell_type": "code",
   "execution_count": 5,
   "id": "2eabde38",
   "metadata": {},
   "outputs": [
    {
     "name": "stdout",
     "output_type": "stream",
     "text": [
      "banana\n",
      "walnut bread\n"
     ]
    }
   ],
   "source": [
    "print(word)"
   ]
  },
  {
   "cell_type": "markdown",
   "id": "65ed9012",
   "metadata": {},
   "source": [
    "print is different from simply using the output of \"x\" or \"word\", from now on we will always use print"
   ]
  },
  {
   "cell_type": "markdown",
   "id": "bf6fa9e7",
   "metadata": {},
   "source": [
    "# string as a list\n",
    "\n",
    "indexing into a string using substring syntax []"
   ]
  },
  {
   "cell_type": "code",
   "execution_count": 6,
   "id": "7dbdb9db",
   "metadata": {},
   "outputs": [
    {
     "name": "stdout",
     "output_type": "stream",
     "text": [
      "b\n"
     ]
    }
   ],
   "source": [
    "word = \"banana\"\n",
    "\n",
    "print(word[0]) # always starts at index of 0 for the first element of the string"
   ]
  },
  {
   "cell_type": "markdown",
   "id": "18f04ecb",
   "metadata": {},
   "source": [
    "# what are lists?!\n",
    "\n",
    "list = sequence of values"
   ]
  },
  {
   "cell_type": "code",
   "execution_count": 7,
   "id": "d6bd1e8d",
   "metadata": {},
   "outputs": [
    {
     "data": {
      "text/plain": [
       "[5, 6, 7, 8, 9, 10]"
      ]
     },
     "execution_count": 7,
     "metadata": {},
     "output_type": "execute_result"
    }
   ],
   "source": [
    "[5, 6, 7, 8, 9, 10]"
   ]
  },
  {
   "cell_type": "code",
   "execution_count": 9,
   "id": "ef43ab4a",
   "metadata": {},
   "outputs": [
    {
     "name": "stdout",
     "output_type": "stream",
     "text": [
      "5\n"
     ]
    }
   ],
   "source": [
    "myFirstList = [5, 6, 7, 8, 9, 10]\n",
    "print(myFirstList[0])"
   ]
  },
  {
   "cell_type": "code",
   "execution_count": 10,
   "id": "cc50fc46",
   "metadata": {},
   "outputs": [
    {
     "name": "stdout",
     "output_type": "stream",
     "text": [
      "[30, 35, 90]\n"
     ]
    }
   ],
   "source": [
    "myFirstList = [5*6, 7*5, 9*10]\n",
    "print(myFirstList)"
   ]
  },
  {
   "cell_type": "markdown",
   "id": "66999cb4",
   "metadata": {},
   "source": [
    "we can get the length of a list using `len()`"
   ]
  },
  {
   "cell_type": "code",
   "execution_count": 11,
   "id": "d25e5b31",
   "metadata": {},
   "outputs": [
    {
     "data": {
      "text/plain": [
       "3"
      ]
     },
     "execution_count": 11,
     "metadata": {},
     "output_type": "execute_result"
    }
   ],
   "source": [
    "len(myFirstList)"
   ]
  },
  {
   "cell_type": "code",
   "execution_count": 12,
   "id": "229c6be6",
   "metadata": {},
   "outputs": [],
   "source": [
    "mySecondList = [\"list\", 10]"
   ]
  },
  {
   "cell_type": "code",
   "execution_count": 13,
   "id": "c29aba47",
   "metadata": {},
   "outputs": [
    {
     "name": "stdout",
     "output_type": "stream",
     "text": [
      "['list', 10]\n"
     ]
    }
   ],
   "source": [
    "print(mySecondList)"
   ]
  },
  {
   "cell_type": "code",
   "execution_count": null,
   "id": "3ac9b2fa",
   "metadata": {},
   "outputs": [],
   "source": [
    "emptyList = []"
   ]
  },
  {
   "cell_type": "code",
   "execution_count": 14,
   "id": "29b5f416",
   "metadata": {},
   "outputs": [
    {
     "data": {
      "text/plain": [
       "list"
      ]
     },
     "execution_count": 14,
     "metadata": {},
     "output_type": "execute_result"
    }
   ],
   "source": [
    "type(mySecondList)"
   ]
  },
  {
   "cell_type": "markdown",
   "id": "45307d87",
   "metadata": {},
   "source": [
    "# getting extra information from a list"
   ]
  },
  {
   "cell_type": "code",
   "execution_count": 15,
   "id": "7a1b18e1",
   "metadata": {},
   "outputs": [
    {
     "data": {
      "text/plain": [
       "str"
      ]
     },
     "execution_count": 15,
     "metadata": {},
     "output_type": "execute_result"
    }
   ],
   "source": [
    "type(mySecondList[0])"
   ]
  },
  {
   "cell_type": "code",
   "execution_count": 16,
   "id": "8198635e",
   "metadata": {},
   "outputs": [
    {
     "data": {
      "text/plain": [
       "int"
      ]
     },
     "execution_count": 16,
     "metadata": {},
     "output_type": "execute_result"
    }
   ],
   "source": [
    "type(mySecondList[1])"
   ]
  },
  {
   "cell_type": "markdown",
   "id": "0897d1fa",
   "metadata": {},
   "source": [
    "lists, strings always start at index of 0!!!!!!!!!"
   ]
  },
  {
   "cell_type": "code",
   "execution_count": 17,
   "id": "5caf1aed",
   "metadata": {},
   "outputs": [
    {
     "name": "stdout",
     "output_type": "stream",
     "text": [
      "[10, 15]\n"
     ]
    }
   ],
   "source": [
    "x = 10\n",
    "y = 15\n",
    "\n",
    "myThirdList = [x, y]\n",
    "print(myThirdList)"
   ]
  },
  {
   "cell_type": "code",
   "execution_count": 18,
   "id": "3aa670cc",
   "metadata": {},
   "outputs": [
    {
     "data": {
      "text/plain": [
       "2"
      ]
     },
     "execution_count": 18,
     "metadata": {},
     "output_type": "execute_result"
    }
   ],
   "source": [
    "len(myThirdList)"
   ]
  },
  {
   "cell_type": "code",
   "execution_count": 19,
   "id": "f1c308ef",
   "metadata": {},
   "outputs": [
    {
     "data": {
      "text/plain": [
       "3"
      ]
     },
     "execution_count": 19,
     "metadata": {},
     "output_type": "execute_result"
    }
   ],
   "source": [
    "len([10, 15, 20])"
   ]
  },
  {
   "cell_type": "code",
   "execution_count": 21,
   "id": "85660372",
   "metadata": {},
   "outputs": [
    {
     "data": {
      "text/plain": [
       "3"
      ]
     },
     "execution_count": 21,
     "metadata": {},
     "output_type": "execute_result"
    }
   ],
   "source": [
    "temp = [10,15,20]\n",
    "len(temp)"
   ]
  },
  {
   "cell_type": "markdown",
   "id": "09076742",
   "metadata": {},
   "source": [
    "# in operator\n",
    "\n",
    "checks to see if a value exists in a list"
   ]
  },
  {
   "cell_type": "code",
   "execution_count": 22,
   "id": "c4942e50",
   "metadata": {},
   "outputs": [
    {
     "data": {
      "text/plain": [
       "True"
      ]
     },
     "execution_count": 22,
     "metadata": {},
     "output_type": "execute_result"
    }
   ],
   "source": [
    "10 in temp"
   ]
  },
  {
   "cell_type": "code",
   "execution_count": 23,
   "id": "30ea6c78",
   "metadata": {},
   "outputs": [
    {
     "data": {
      "text/plain": [
       "True"
      ]
     },
     "execution_count": 23,
     "metadata": {},
     "output_type": "execute_result"
    }
   ],
   "source": [
    "bodyParts = [\"feet\", \"torso\", \"hands\", \"head\", \"arms\", \"legs\"]\n",
    "\n",
    "\"feet\" in bodyParts"
   ]
  },
  {
   "cell_type": "code",
   "execution_count": 24,
   "id": "4be03dcf",
   "metadata": {},
   "outputs": [
    {
     "data": {
      "text/plain": [
       "True"
      ]
     },
     "execution_count": 24,
     "metadata": {},
     "output_type": "execute_result"
    }
   ],
   "source": [
    "# in operator is the same in a string\n",
    "\"foo\" in \"foobar\""
   ]
  },
  {
   "cell_type": "markdown",
   "id": "925f6565",
   "metadata": {},
   "source": [
    "# STRINGS ARE LISTS!!!!!"
   ]
  },
  {
   "cell_type": "markdown",
   "id": "af7daa07",
   "metadata": {},
   "source": [
    "## functions that exist for lists\n",
    "\n",
    "max(), min(), sorted()"
   ]
  },
  {
   "cell_type": "code",
   "execution_count": 25,
   "id": "1288a3dd",
   "metadata": {},
   "outputs": [
    {
     "data": {
      "text/plain": [
       "43"
      ]
     },
     "execution_count": 25,
     "metadata": {},
     "output_type": "execute_result"
    }
   ],
   "source": [
    "nums = [36, 43, 20, 10]\n",
    "\n",
    "max(nums)"
   ]
  },
  {
   "cell_type": "code",
   "execution_count": 26,
   "id": "3f68ab46",
   "metadata": {},
   "outputs": [
    {
     "data": {
      "text/plain": [
       "10"
      ]
     },
     "execution_count": 26,
     "metadata": {},
     "output_type": "execute_result"
    }
   ],
   "source": [
    "min(nums)"
   ]
  },
  {
   "cell_type": "code",
   "execution_count": 27,
   "id": "3b5d85b7",
   "metadata": {},
   "outputs": [
    {
     "data": {
      "text/plain": [
       "[10, 20, 36, 43]"
      ]
     },
     "execution_count": 27,
     "metadata": {},
     "output_type": "execute_result"
    }
   ],
   "source": [
    "sorted(nums)"
   ]
  },
  {
   "cell_type": "code",
   "execution_count": 29,
   "id": "bfc9dd61",
   "metadata": {},
   "outputs": [
    {
     "data": {
      "text/plain": [
       "['a', 'b', 'd', 'f']"
      ]
     },
     "execution_count": 29,
     "metadata": {},
     "output_type": "execute_result"
    }
   ],
   "source": [
    "chars = [\"b\", \"d\", \"f\", \"a\"]\n",
    "\n",
    "sorted(chars)"
   ]
  },
  {
   "cell_type": "markdown",
   "id": "19f7a239",
   "metadata": {},
   "source": [
    "## negative index"
   ]
  },
  {
   "cell_type": "code",
   "execution_count": 30,
   "id": "09b1d2b7",
   "metadata": {},
   "outputs": [
    {
     "name": "stdout",
     "output_type": "stream",
     "text": [
      "['b', 'd', 'f', 'a']\n"
     ]
    }
   ],
   "source": [
    "print(chars)"
   ]
  },
  {
   "cell_type": "code",
   "execution_count": 31,
   "id": "387f4af4",
   "metadata": {},
   "outputs": [
    {
     "data": {
      "text/plain": [
       "'a'"
      ]
     },
     "execution_count": 31,
     "metadata": {},
     "output_type": "execute_result"
    }
   ],
   "source": [
    "chars[-1]"
   ]
  },
  {
   "cell_type": "code",
   "execution_count": 33,
   "id": "929f09f2",
   "metadata": {},
   "outputs": [
    {
     "name": "stdout",
     "output_type": "stream",
     "text": [
      "['a', 'b', 'd', 'f']\n"
     ]
    },
    {
     "data": {
      "text/plain": [
       "'f'"
      ]
     },
     "execution_count": 33,
     "metadata": {},
     "output_type": "execute_result"
    }
   ],
   "source": [
    "sortedChars = sorted(chars)\n",
    "print(sortedChars)\n",
    "sortedChars[-1]"
   ]
  },
  {
   "cell_type": "code",
   "execution_count": 34,
   "id": "dcb1d817",
   "metadata": {},
   "outputs": [
    {
     "data": {
      "text/plain": [
       "'f'"
      ]
     },
     "execution_count": 34,
     "metadata": {},
     "output_type": "execute_result"
    }
   ],
   "source": [
    "# [-1] is shorthand\n",
    "sortedChars[len(sortedChars)-1]"
   ]
  },
  {
   "cell_type": "markdown",
   "id": "72ea4586",
   "metadata": {},
   "source": [
    "# using range\n",
    "\n",
    "using the `list()` method creates a new list and `range()` determines how many values to create"
   ]
  },
  {
   "cell_type": "code",
   "execution_count": 35,
   "id": "f56aed95",
   "metadata": {},
   "outputs": [
    {
     "data": {
      "text/plain": [
       "[0, 1, 2, 3, 4, 5, 6, 7, 8, 9]"
      ]
     },
     "execution_count": 35,
     "metadata": {},
     "output_type": "execute_result"
    }
   ],
   "source": [
    "list(range(10))"
   ]
  },
  {
   "cell_type": "code",
   "execution_count": 36,
   "id": "c1c4e380",
   "metadata": {},
   "outputs": [
    {
     "data": {
      "text/plain": [
       "[-10, -9, -8, -7, -6, -5, -4, -3, -2, -1, 0, 1, 2, 3, 4, 5, 6, 7, 8, 9]"
      ]
     },
     "execution_count": 36,
     "metadata": {},
     "output_type": "execute_result"
    }
   ],
   "source": [
    "# specify start and stop\n",
    "list(range(-10, 10))"
   ]
  },
  {
   "cell_type": "markdown",
   "id": "1ff007e3",
   "metadata": {},
   "source": [
    "# list slices"
   ]
  },
  {
   "cell_type": "code",
   "execution_count": 37,
   "id": "68919781",
   "metadata": {},
   "outputs": [],
   "source": [
    "sentence = \"the quick brown fox jumped over the lazy dog\""
   ]
  },
  {
   "cell_type": "code",
   "execution_count": 38,
   "id": "6fe722c9",
   "metadata": {},
   "outputs": [
    {
     "data": {
      "text/plain": [
       "'the'"
      ]
     },
     "execution_count": 38,
     "metadata": {},
     "output_type": "execute_result"
    }
   ],
   "source": [
    "sentence[0:3]"
   ]
  },
  {
   "cell_type": "code",
   "execution_count": 39,
   "id": "ae01dcec",
   "metadata": {},
   "outputs": [
    {
     "name": "stdout",
     "output_type": "stream",
     "text": [
      "['t', 'h', 'e', ' ', 'q', 'u', 'i', 'c', 'k', ' ', 'b', 'r', 'o', 'w', 'n', ' ', 'f', 'o', 'x', ' ', 'j', 'u', 'm', 'p', 'e', 'd', ' ', 'o', 'v', 'e', 'r', ' ', 't', 'h', 'e', ' ', 'l', 'a', 'z', 'y', ' ', 'd', 'o', 'g']\n"
     ]
    }
   ],
   "source": [
    "sentenceList = list(sentence)\n",
    "print(sentenceList)"
   ]
  },
  {
   "cell_type": "code",
   "execution_count": 40,
   "id": "c20bda68",
   "metadata": {},
   "outputs": [
    {
     "data": {
      "text/plain": [
       "['t', 'h', 'e']"
      ]
     },
     "execution_count": 40,
     "metadata": {},
     "output_type": "execute_result"
    }
   ],
   "source": [
    "sentenceList[0:3]"
   ]
  },
  {
   "cell_type": "code",
   "execution_count": 41,
   "id": "6d9b7ce5",
   "metadata": {},
   "outputs": [
    {
     "name": "stdout",
     "output_type": "stream",
     "text": [
      "the\n",
      "['t', 'h', 'e']\n"
     ]
    }
   ],
   "source": [
    "print(sentence[0:3])\n",
    "print(sentenceList[0:3])"
   ]
  },
  {
   "cell_type": "code",
   "execution_count": 43,
   "id": "579bfd79",
   "metadata": {},
   "outputs": [
    {
     "data": {
      "text/plain": [
       "str"
      ]
     },
     "execution_count": 43,
     "metadata": {},
     "output_type": "execute_result"
    }
   ],
   "source": [
    "type(sentence)"
   ]
  },
  {
   "cell_type": "code",
   "execution_count": 44,
   "id": "15b89d3c",
   "metadata": {},
   "outputs": [
    {
     "data": {
      "text/plain": [
       "list"
      ]
     },
     "execution_count": 44,
     "metadata": {},
     "output_type": "execute_result"
    }
   ],
   "source": [
    "type(sentenceList)"
   ]
  },
  {
   "cell_type": "code",
   "execution_count": 45,
   "id": "909481d4",
   "metadata": {},
   "outputs": [
    {
     "data": {
      "text/plain": [
       "['t', 'h', 'e']"
      ]
     },
     "execution_count": 45,
     "metadata": {},
     "output_type": "execute_result"
    }
   ],
   "source": [
    "sentenceList[:3]"
   ]
  },
  {
   "cell_type": "code",
   "execution_count": 48,
   "id": "7579fc02",
   "metadata": {},
   "outputs": [
    {
     "data": {
      "text/plain": [
       "['e', ' ', 'l', 'a', 'z', 'y', ' ', 'd', 'o', 'g']"
      ]
     },
     "execution_count": 48,
     "metadata": {},
     "output_type": "execute_result"
    }
   ],
   "source": [
    "sentenceList[-10:]"
   ]
  },
  {
   "cell_type": "markdown",
   "id": "03ce87a0",
   "metadata": {},
   "source": [
    "# more complex math & transformations"
   ]
  },
  {
   "cell_type": "code",
   "execution_count": 50,
   "id": "714bbe20",
   "metadata": {},
   "outputs": [
    {
     "data": {
      "text/plain": [
       "[0, 1, 2, 3, 4, 5, 6, 7, 8, 9]"
      ]
     },
     "execution_count": 50,
     "metadata": {},
     "output_type": "execute_result"
    }
   ],
   "source": [
    "source = list(range(10))\n",
    "source"
   ]
  },
  {
   "cell_type": "code",
   "execution_count": 53,
   "id": "43fba3c6",
   "metadata": {},
   "outputs": [
    {
     "name": "stdout",
     "output_type": "stream",
     "text": [
      "0\n",
      "1\n",
      "2\n",
      "3\n",
      "4\n",
      "5\n",
      "6\n",
      "7\n",
      "8\n",
      "9\n"
     ]
    }
   ],
   "source": [
    "for x in source:\n",
    "    print(x)"
   ]
  },
  {
   "cell_type": "code",
   "execution_count": null,
   "id": "b734589a",
   "metadata": {},
   "outputs": [],
   "source": [
    "# source[x]\n",
    "source[0]\n",
    "source[1]\n",
    "source[2]"
   ]
  },
  {
   "cell_type": "code",
   "execution_count": 55,
   "id": "0fa37fab",
   "metadata": {},
   "outputs": [
    {
     "data": {
      "text/plain": [
       "[0, 1, 2, 3, 4, 5, 6, 7, 8, 9]"
      ]
     },
     "execution_count": 55,
     "metadata": {},
     "output_type": "execute_result"
    }
   ],
   "source": [
    "source"
   ]
  },
  {
   "cell_type": "code",
   "execution_count": 54,
   "id": "76d1a1bd",
   "metadata": {},
   "outputs": [
    {
     "data": {
      "text/plain": [
       "[0, 1, 4, 9, 16, 25, 36, 49, 64, 81]"
      ]
     },
     "execution_count": 54,
     "metadata": {},
     "output_type": "execute_result"
    }
   ],
   "source": [
    "# predicate expression = some math on each element of the list\n",
    "[x*x for x in source]"
   ]
  },
  {
   "cell_type": "code",
   "execution_count": 56,
   "id": "8d0be1e3",
   "metadata": {},
   "outputs": [
    {
     "data": {
      "text/plain": [
       "[0, 1, 4, 9, 16, 25, 36, 49, 64, 81]"
      ]
     },
     "execution_count": 56,
     "metadata": {},
     "output_type": "execute_result"
    }
   ],
   "source": [
    "[pig*pig for pig in source]"
   ]
  },
  {
   "cell_type": "code",
   "execution_count": 57,
   "id": "6a759a6f",
   "metadata": {},
   "outputs": [
    {
     "data": {
      "text/plain": [
       "[0, 2, 4, 6, 8, 10, 12, 14, 16, 18]"
      ]
     },
     "execution_count": 57,
     "metadata": {},
     "output_type": "execute_result"
    }
   ],
   "source": [
    "[pig*2 for pig in source]"
   ]
  },
  {
   "cell_type": "code",
   "execution_count": 59,
   "id": "e5ab115a",
   "metadata": {},
   "outputs": [],
   "source": [
    "newList = [x*x for x in [0,1,2]]"
   ]
  },
  {
   "cell_type": "code",
   "execution_count": 60,
   "id": "883cd6df",
   "metadata": {},
   "outputs": [
    {
     "data": {
      "text/plain": [
       "[0, 1, 4]"
      ]
     },
     "execution_count": 60,
     "metadata": {},
     "output_type": "execute_result"
    }
   ],
   "source": [
    "newList"
   ]
  },
  {
   "cell_type": "code",
   "execution_count": 67,
   "id": "27ef1557",
   "metadata": {},
   "outputs": [],
   "source": [
    "sentence = \"i love my cat, saffron\""
   ]
  },
  {
   "cell_type": "code",
   "execution_count": 63,
   "id": "77fa82f4",
   "metadata": {},
   "outputs": [
    {
     "name": "stdout",
     "output_type": "stream",
     "text": [
      "i love my cat saffron\n"
     ]
    }
   ],
   "source": [
    "print(sentence)"
   ]
  },
  {
   "cell_type": "code",
   "execution_count": 64,
   "id": "cb9081d7",
   "metadata": {},
   "outputs": [
    {
     "data": {
      "text/plain": [
       "['i', 'love', 'my', 'cat', 'saffron']"
      ]
     },
     "execution_count": 64,
     "metadata": {},
     "output_type": "execute_result"
    }
   ],
   "source": [
    "sentence.split()"
   ]
  },
  {
   "cell_type": "code",
   "execution_count": 65,
   "id": "6ebdf739",
   "metadata": {},
   "outputs": [
    {
     "data": {
      "text/plain": [
       "['i',\n",
       " ' ',\n",
       " 'l',\n",
       " 'o',\n",
       " 'v',\n",
       " 'e',\n",
       " ' ',\n",
       " 'm',\n",
       " 'y',\n",
       " ' ',\n",
       " 'c',\n",
       " 'a',\n",
       " 't',\n",
       " ' ',\n",
       " 's',\n",
       " 'a',\n",
       " 'f',\n",
       " 'f',\n",
       " 'r',\n",
       " 'o',\n",
       " 'n']"
      ]
     },
     "execution_count": 65,
     "metadata": {},
     "output_type": "execute_result"
    }
   ],
   "source": [
    "list(sentence)"
   ]
  },
  {
   "cell_type": "code",
   "execution_count": 68,
   "id": "3e752aed",
   "metadata": {},
   "outputs": [
    {
     "data": {
      "text/plain": [
       "['i love my cat', ' saffron']"
      ]
     },
     "execution_count": 68,
     "metadata": {},
     "output_type": "execute_result"
    }
   ],
   "source": [
    "sentence.split(\",\")"
   ]
  },
  {
   "cell_type": "code",
   "execution_count": 69,
   "id": "26b3da7f",
   "metadata": {},
   "outputs": [],
   "source": [
    "# setting variable source text \n",
    "text = open(\"frost1.txt\").read()"
   ]
  },
  {
   "cell_type": "code",
   "execution_count": 70,
   "id": "355b9c49",
   "metadata": {},
   "outputs": [
    {
     "data": {
      "text/plain": [
       "'Two roads '"
      ]
     },
     "execution_count": 70,
     "metadata": {},
     "output_type": "execute_result"
    }
   ],
   "source": [
    "# printing out the first 10 character to make sure that it pulled in correctly\n",
    "text[:10]"
   ]
  },
  {
   "cell_type": "code",
   "execution_count": 71,
   "id": "61121115",
   "metadata": {},
   "outputs": [
    {
     "data": {
      "text/plain": [
       "'Two roads diverged in a yellow wood,\\nAnd sorry I could not travel both\\nAnd be one traveler, long I stood\\nAnd looked down one as far as I could\\nTo where it bent in the undergrowth;\\n\\nThen took the other, as just as fair,\\nAnd having perhaps the better claim,\\nBecause it was grassy and wanted wear;\\nThough as for that the passing there\\nHad worn them really about the same,\\n\\nAnd both that morning equally lay\\nIn leaves no step had trodden black.\\nOh, I kept the first for another day!\\nYet knowing how way leads on to way,\\nI doubted if I should ever come back.\\n\\nI shall be telling this with a sigh\\nSomewhere ages and ages hence:\\nTwo roads diverged in a wood, and I—\\nI took the one less traveled by,\\nAnd that has made all the difference.'"
      ]
     },
     "execution_count": 71,
     "metadata": {},
     "output_type": "execute_result"
    }
   ],
   "source": [
    "# displaying the value of text, including the \\n which i note as my delination character\n",
    "text"
   ]
  },
  {
   "cell_type": "code",
   "execution_count": 79,
   "id": "bb33a7e6",
   "metadata": {},
   "outputs": [],
   "source": [
    "# creates a new variable splitText that splits each of the lines of the source text by the delintation character \"\\n\"\n",
    "splitText = text.split(\"\\n\")"
   ]
  },
  {
   "cell_type": "code",
   "execution_count": 74,
   "id": "c332e3f4",
   "metadata": {},
   "outputs": [
    {
     "data": {
      "text/plain": [
       "'Two roads diverged in a yellow wood,'"
      ]
     },
     "execution_count": 74,
     "metadata": {},
     "output_type": "execute_result"
    }
   ],
   "source": [
    "# displaying the value of the first element of the new list\n",
    "splitText[0]"
   ]
  },
  {
   "cell_type": "code",
   "execution_count": 75,
   "id": "750f8ad1",
   "metadata": {},
   "outputs": [
    {
     "data": {
      "text/plain": [
       "['Two', 'roads', 'diverged', 'in', 'a', 'yellow', 'wood,']"
      ]
     },
     "execution_count": 75,
     "metadata": {},
     "output_type": "execute_result"
    }
   ],
   "source": [
    "# creating new variable list that splits the first line of the new split text into a list of all the words in the first line\n",
    "splitLine = splitText[0].split()\n",
    "splitLine"
   ]
  },
  {
   "cell_type": "code",
   "execution_count": 77,
   "id": "32258c0f",
   "metadata": {},
   "outputs": [],
   "source": [
    "# creating a new variable to hold the string that goes in between each word\n",
    "glue = \" Ƹ̵̡Ӝ̵̨̄Ʒ \"\n",
    "# rejoining into a new line that no longer has individual words as elements\n",
    "butterfly = glue.join(splitLine)"
   ]
  },
  {
   "cell_type": "code",
   "execution_count": 78,
   "id": "0674a8bd",
   "metadata": {},
   "outputs": [
    {
     "name": "stdout",
     "output_type": "stream",
     "text": [
      "Two Ƹ̵̡Ӝ̵̨̄Ʒ roads Ƹ̵̡Ӝ̵̨̄Ʒ diverged Ƹ̵̡Ӝ̵̨̄Ʒ in Ƹ̵̡Ӝ̵̨̄Ʒ a Ƹ̵̡Ӝ̵̨̄Ʒ yellow Ƹ̵̡Ӝ̵̨̄Ʒ wood,\n"
     ]
    }
   ],
   "source": [
    "print(butterfly)"
   ]
  },
  {
   "cell_type": "code",
   "execution_count": 80,
   "id": "f5e74b7d",
   "metadata": {},
   "outputs": [
    {
     "data": {
      "text/plain": [
       "'Two roads diverged in a yellow wood,'"
      ]
     },
     "execution_count": 80,
     "metadata": {},
     "output_type": "execute_result"
    }
   ],
   "source": [
    "# variables still exist beyond the transformations i made on them\n",
    "splitText[0]"
   ]
  },
  {
   "cell_type": "code",
   "execution_count": 81,
   "id": "04160e70",
   "metadata": {},
   "outputs": [
    {
     "data": {
      "text/plain": [
       "['Two', 'roads', 'diverged', 'in', 'a', 'yellow', 'wood,']"
      ]
     },
     "execution_count": 81,
     "metadata": {},
     "output_type": "execute_result"
    }
   ],
   "source": [
    "splitLine"
   ]
  },
  {
   "cell_type": "markdown",
   "id": "24c2647c",
   "metadata": {},
   "source": [
    "# using the random library\n",
    "\n",
    "this only needs to be run once (usually at the beginning of the program but i did it now\n"
   ]
  },
  {
   "cell_type": "code",
   "execution_count": 87,
   "id": "1a2732fd",
   "metadata": {},
   "outputs": [],
   "source": [
    "import random"
   ]
  },
  {
   "cell_type": "code",
   "execution_count": 88,
   "id": "933881f7",
   "metadata": {},
   "outputs": [
    {
     "data": {
      "text/plain": [
       "['Two', 'yellow', 'diverged', 'wood,', 'a', 'in', 'roads']"
      ]
     },
     "execution_count": 88,
     "metadata": {},
     "output_type": "execute_result"
    }
   ],
   "source": [
    "splitLine"
   ]
  },
  {
   "cell_type": "code",
   "execution_count": 89,
   "id": "fc500d68",
   "metadata": {},
   "outputs": [
    {
     "data": {
      "text/plain": [
       "['in', 'yellow', 'a', 'roads', 'Two', 'wood,', 'diverged']"
      ]
     },
     "execution_count": 89,
     "metadata": {},
     "output_type": "execute_result"
    }
   ],
   "source": [
    "# using the random shuffle function to randomize the elements in the list\n",
    "# it does not \"return\" anything from the shuffle, so we need to display the value on the following line\n",
    "random.shuffle(splitLine)\n",
    "splitLine"
   ]
  },
  {
   "cell_type": "code",
   "execution_count": 91,
   "id": "96b45fce",
   "metadata": {},
   "outputs": [],
   "source": [
    "# we are joining the split line together using the join function and passing in the string as the character to put the elements of the string together\n",
    "splitText[0] = \" \".join(splitLine)"
   ]
  },
  {
   "cell_type": "code",
   "execution_count": 95,
   "id": "1ce9ea49",
   "metadata": {},
   "outputs": [
    {
     "data": {
      "text/plain": [
       "'in yellow a roads Two wood, diverged'"
      ]
     },
     "execution_count": 95,
     "metadata": {},
     "output_type": "execute_result"
    }
   ],
   "source": [
    "# displaying the new value of the first element of the split text list\n",
    "splitText[0]"
   ]
  },
  {
   "cell_type": "code",
   "execution_count": 94,
   "id": "2e84fbd5",
   "metadata": {},
   "outputs": [
    {
     "name": "stdout",
     "output_type": "stream",
     "text": [
      "in yellow a roads Two wood, diverged\n",
      "And sorry I could not travel both\n",
      "And be one traveler, long I stood\n",
      "And looked down one as far as I could\n",
      "To where it bent in the undergrowth;\n",
      "\n",
      "Then took the other, as just as fair,\n",
      "And having perhaps the better claim,\n",
      "Because it was grassy and wanted wear;\n",
      "Though as for that the passing there\n",
      "Had worn them really about the same,\n",
      "\n",
      "And both that morning equally lay\n",
      "In leaves no step had trodden black.\n",
      "Oh, I kept the first for another day!\n",
      "Yet knowing how way leads on to way,\n",
      "I doubted if I should ever come back.\n",
      "\n",
      "I shall be telling this with a sigh\n",
      "Somewhere ages and ages hence:\n",
      "Two roads diverged in a wood, and I—\n",
      "I took the one less traveled by,\n",
      "And that has made all the difference.\n"
     ]
    }
   ],
   "source": [
    "# printing the new poem with the updated first line\n",
    "print(\"\\n\".join(splitText))"
   ]
  },
  {
   "cell_type": "code",
   "execution_count": 99,
   "id": "db829f25",
   "metadata": {},
   "outputs": [
    {
     "data": {
      "text/plain": [
       "str"
      ]
     },
     "execution_count": 99,
     "metadata": {},
     "output_type": "execute_result"
    }
   ],
   "source": [
    "# figuring out the type of butterfly\n",
    "type(butterfly)"
   ]
  },
  {
   "cell_type": "code",
   "execution_count": 105,
   "id": "b1595c60",
   "metadata": {},
   "outputs": [
    {
     "data": {
      "text/plain": [
       "['diverged',\n",
       " 'Ƹ̵̡Ӝ̵̨̄Ʒ',\n",
       " 'Ƹ̵̡Ӝ̵̨̄Ʒ',\n",
       " 'Two',\n",
       " 'a',\n",
       " 'wood,',\n",
       " 'Ƹ̵̡Ӝ̵̨̄Ʒ',\n",
       " 'Ƹ̵̡Ӝ̵̨̄Ʒ',\n",
       " 'yellow',\n",
       " 'Ƹ̵̡Ӝ̵̨̄Ʒ',\n",
       " 'in',\n",
       " 'roads',\n",
       " 'Ƹ̵̡Ӝ̵̨̄Ʒ']"
      ]
     },
     "execution_count": 105,
     "metadata": {},
     "output_type": "execute_result"
    }
   ],
   "source": [
    "# we need to make the butterfly string a list in order to use the shuffle function on it\n",
    "list(butterfly) # making it a list of each individual characters\n",
    "butterflyList=\"\".join(butterfly).split(' ') # joining the characters and splitting it so that each element of the new array is every single word instead of every single character\n",
    "\n",
    "random.shuffle(butterflyList) # shuffling our new list\n",
    "butterflyList # displaying the value of our list"
   ]
  },
  {
   "cell_type": "code",
   "execution_count": 108,
   "id": "ba3d3089",
   "metadata": {},
   "outputs": [],
   "source": [
    "# changing the value of the first element of the original split text to be the combined shuffled butterfly list\n",
    "splitText[0] = \" \".join(butterflyList)"
   ]
  },
  {
   "cell_type": "code",
   "execution_count": 109,
   "id": "79033164",
   "metadata": {},
   "outputs": [
    {
     "name": "stdout",
     "output_type": "stream",
     "text": [
      "diverged Ƹ̵̡Ӝ̵̨̄Ʒ Ƹ̵̡Ӝ̵̨̄Ʒ Two a wood, Ƹ̵̡Ӝ̵̨̄Ʒ Ƹ̵̡Ӝ̵̨̄Ʒ yellow Ƹ̵̡Ӝ̵̨̄Ʒ in roads Ƹ̵̡Ӝ̵̨̄Ʒ\n",
      "And sorry I could not travel both\n",
      "And be one traveler, long I stood\n",
      "And looked down one as far as I could\n",
      "To where it bent in the undergrowth;\n",
      "\n",
      "Then took the other, as just as fair,\n",
      "And having perhaps the better claim,\n",
      "Because it was grassy and wanted wear;\n",
      "Though as for that the passing there\n",
      "Had worn them really about the same,\n",
      "\n",
      "And both that morning equally lay\n",
      "In leaves no step had trodden black.\n",
      "Oh, I kept the first for another day!\n",
      "Yet knowing how way leads on to way,\n",
      "I doubted if I should ever come back.\n",
      "\n",
      "I shall be telling this with a sigh\n",
      "Somewhere ages and ages hence:\n",
      "Two roads diverged in a wood, and I—\n",
      "I took the one less traveled by,\n",
      "And that has made all the difference.\n"
     ]
    }
   ],
   "source": [
    "# printing out the value of the new poem\n",
    "print(\"\\n\".join(splitText))"
   ]
  },
  {
   "cell_type": "code",
   "execution_count": null,
   "id": "c4274d58",
   "metadata": {},
   "outputs": [],
   "source": []
  }
 ],
 "metadata": {
  "kernelspec": {
   "display_name": "Python 3 (ipykernel)",
   "language": "python",
   "name": "python3"
  },
  "language_info": {
   "codemirror_mode": {
    "name": "ipython",
    "version": 3
   },
   "file_extension": ".py",
   "mimetype": "text/x-python",
   "name": "python",
   "nbconvert_exporter": "python",
   "pygments_lexer": "ipython3",
   "version": "3.11.4"
  }
 },
 "nbformat": 4,
 "nbformat_minor": 5
}
