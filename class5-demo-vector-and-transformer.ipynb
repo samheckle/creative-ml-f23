{
 "cells": [
  {
   "cell_type": "markdown",
   "id": "0c98e2f6",
   "metadata": {},
   "source": [
    "# library imports"
   ]
  },
  {
   "cell_type": "code",
   "execution_count": 1,
   "id": "a5339438",
   "metadata": {},
   "outputs": [
    {
     "name": "stdout",
     "output_type": "stream",
     "text": [
      "Requirement already satisfied: simpleneighbors in /Users/samheckle/anaconda3/lib/python3.11/site-packages (0.1.0)\r\n"
     ]
    }
   ],
   "source": [
    "import sys\n",
    "!{sys.executable} -m pip install simpleneighbors"
   ]
  },
  {
   "cell_type": "code",
   "execution_count": 2,
   "id": "0212e0b6",
   "metadata": {
    "scrolled": true
   },
   "outputs": [
    {
     "name": "stdout",
     "output_type": "stream",
     "text": [
      "Collecting package metadata (current_repodata.json): \\ DEBUG:urllib3.connectionpool:Starting new HTTPS connection (1): conda.anaconda.org:443\n",
      "DEBUG:urllib3.connectionpool:Starting new HTTPS connection (1): repo.anaconda.com:443\n",
      "DEBUG:urllib3.connectionpool:Starting new HTTPS connection (1): repo.anaconda.com:443\n",
      "| DEBUG:urllib3.connectionpool:Starting new HTTPS connection (1): repo.anaconda.com:443\n",
      "DEBUG:urllib3.connectionpool:Starting new HTTPS connection (1): repo.anaconda.com:443\n",
      "DEBUG:urllib3.connectionpool:Starting new HTTPS connection (1): conda.anaconda.org:443\n",
      "DEBUG:urllib3.connectionpool:https://repo.anaconda.com:443 \"GET /pkgs/main/noarch/current_repodata.json HTTP/1.1\" 304 0\n",
      "DEBUG:urllib3.connectionpool:https://repo.anaconda.com:443 \"GET /pkgs/main/osx-64/current_repodata.json HTTP/1.1\" 304 0\n",
      "DEBUG:urllib3.connectionpool:https://repo.anaconda.com:443 \"GET /pkgs/r/osx-64/current_repodata.json HTTP/1.1\" 304 0\n",
      "DEBUG:urllib3.connectionpool:https://repo.anaconda.com:443 \"GET /pkgs/r/noarch/current_repodata.json HTTP/1.1\" 304 0\n",
      "/ DEBUG:urllib3.connectionpool:https://conda.anaconda.org:443 \"GET /conda-forge/noarch/current_repodata.json HTTP/1.1\" 200 None\n",
      "DEBUG:urllib3.connectionpool:https://conda.anaconda.org:443 \"GET /conda-forge/osx-64/current_repodata.json HTTP/1.1\" 200 None\n",
      "| WARNING conda.models.version:get_matcher(556): Using .* with relational operator is superfluous and deprecated and will be removed in a future version of conda. Your spec was 1.7.1.*, but conda is ignoring the .* and treating it as 1.7.1\n",
      "done\n",
      "Solving environment: done\n",
      "\n",
      "\n",
      "==> WARNING: A newer version of conda exists. <==\n",
      "  current version: 23.7.4\n",
      "  latest version: 23.9.0\n",
      "\n",
      "Please update conda by running\n",
      "\n",
      "    $ conda update -n base -c conda-forge conda\n",
      "\n",
      "Or to minimize the number of packages updated during conda update use\n",
      "\n",
      "     conda install conda=23.9.0\n",
      "\n",
      "\n",
      "\n",
      "## Package Plan ##\n",
      "\n",
      "  environment location: /Users/samheckle/anaconda3\n",
      "\n",
      "  added / updated specs:\n",
      "    - python-annoy\n",
      "\n",
      "\n",
      "The following packages will be SUPERSEDED by a higher-priority channel:\n",
      "\n",
      "  ca-certificates    pkgs/main::ca-certificates-2023.08.22~ --> conda-forge::ca-certificates-2023.7.22-h8857fd0_0 \n",
      "  certifi            pkgs/main/osx-64::certifi-2023.7.22-p~ --> conda-forge/noarch::certifi-2023.7.22-pyhd8ed1ab_0 \n",
      "  openssl              pkgs/main::openssl-1.1.1w-hca72f7f_0 --> conda-forge::openssl-1.1.1w-h8a1eda9_0 \n",
      "\n",
      "\n",
      "\n",
      "Downloading and Extracting Packages\n",
      "\n",
      "Preparing transaction: done\n",
      "Verifying transaction: done\n",
      "Executing transaction: done\n"
     ]
    }
   ],
   "source": [
    "!conda install -y --prefix {sys.prefix} -c conda-forge python-annoy"
   ]
  },
  {
   "cell_type": "code",
   "execution_count": 3,
   "id": "fa66e384",
   "metadata": {
    "scrolled": true
   },
   "outputs": [
    {
     "name": "stdout",
     "output_type": "stream",
     "text": [
      "Collecting package metadata (current_repodata.json): / DEBUG:urllib3.connectionpool:Starting new HTTPS connection (1): repo.anaconda.com:443\n",
      "DEBUG:urllib3.connectionpool:Starting new HTTPS connection (1): repo.anaconda.com:443\n",
      "- DEBUG:urllib3.connectionpool:Starting new HTTPS connection (1): repo.anaconda.com:443\n",
      "DEBUG:urllib3.connectionpool:Starting new HTTPS connection (1): repo.anaconda.com:443\n",
      "\\ DEBUG:urllib3.connectionpool:https://repo.anaconda.com:443 \"GET /pkgs/main/osx-64/current_repodata.json HTTP/1.1\" 304 0\n",
      "DEBUG:urllib3.connectionpool:https://repo.anaconda.com:443 \"GET /pkgs/r/noarch/current_repodata.json HTTP/1.1\" 304 0\n",
      "DEBUG:urllib3.connectionpool:https://repo.anaconda.com:443 \"GET /pkgs/main/noarch/current_repodata.json HTTP/1.1\" 304 0\n",
      "| DEBUG:urllib3.connectionpool:https://repo.anaconda.com:443 \"GET /pkgs/r/osx-64/current_repodata.json HTTP/1.1\" 304 0\n",
      "/ WARNING conda.models.version:get_matcher(556): Using .* with relational operator is superfluous and deprecated and will be removed in a future version of conda. Your spec was 1.7.1.*, but conda is ignoring the .* and treating it as 1.7.1\n",
      "done\n",
      "Solving environment: done\n",
      "\n",
      "\n",
      "==> WARNING: A newer version of conda exists. <==\n",
      "  current version: 23.7.4\n",
      "  latest version: 23.9.0\n",
      "\n",
      "Please update conda by running\n",
      "\n",
      "    $ conda update -n base -c conda-forge conda\n",
      "\n",
      "Or to minimize the number of packages updated during conda update use\n",
      "\n",
      "     conda install conda=23.9.0\n",
      "\n",
      "\n",
      "\n",
      "# All requested packages already installed.\n",
      "\n",
      "Collecting en-core-web-md==3.6.0\n",
      "  Downloading https://github.com/explosion/spacy-models/releases/download/en_core_web_md-3.6.0/en_core_web_md-3.6.0-py3-none-any.whl (42.8 MB)\n",
      "\u001b[2K     \u001b[90m━━━━━━━━━━━━━━━━━━━━━━━━━━━━━━━━━━━━━━━━\u001b[0m \u001b[32m42.8/42.8 MB\u001b[0m \u001b[31m8.0 MB/s\u001b[0m eta \u001b[36m0:00:00\u001b[0m00:01\u001b[0m00:01\u001b[0mm\n",
      "\u001b[?25hRequirement already satisfied: spacy<3.7.0,>=3.6.0 in /Users/samheckle/anaconda3/lib/python3.11/site-packages (from en-core-web-md==3.6.0) (3.6.1)\n",
      "Requirement already satisfied: spacy-legacy<3.1.0,>=3.0.11 in /Users/samheckle/anaconda3/lib/python3.11/site-packages (from spacy<3.7.0,>=3.6.0->en-core-web-md==3.6.0) (3.0.12)\n",
      "Requirement already satisfied: spacy-loggers<2.0.0,>=1.0.0 in /Users/samheckle/anaconda3/lib/python3.11/site-packages (from spacy<3.7.0,>=3.6.0->en-core-web-md==3.6.0) (1.0.5)\n",
      "Requirement already satisfied: murmurhash<1.1.0,>=0.28.0 in /Users/samheckle/anaconda3/lib/python3.11/site-packages (from spacy<3.7.0,>=3.6.0->en-core-web-md==3.6.0) (1.0.7)\n",
      "Requirement already satisfied: cymem<2.1.0,>=2.0.2 in /Users/samheckle/anaconda3/lib/python3.11/site-packages (from spacy<3.7.0,>=3.6.0->en-core-web-md==3.6.0) (2.0.6)\n",
      "Requirement already satisfied: preshed<3.1.0,>=3.0.2 in /Users/samheckle/anaconda3/lib/python3.11/site-packages (from spacy<3.7.0,>=3.6.0->en-core-web-md==3.6.0) (3.0.6)\n",
      "Requirement already satisfied: thinc<8.2.0,>=8.1.8 in /Users/samheckle/anaconda3/lib/python3.11/site-packages (from spacy<3.7.0,>=3.6.0->en-core-web-md==3.6.0) (8.1.10)\n",
      "Requirement already satisfied: wasabi<1.2.0,>=0.9.1 in /Users/samheckle/anaconda3/lib/python3.11/site-packages (from spacy<3.7.0,>=3.6.0->en-core-web-md==3.6.0) (1.1.2)\n",
      "Requirement already satisfied: srsly<3.0.0,>=2.4.3 in /Users/samheckle/anaconda3/lib/python3.11/site-packages (from spacy<3.7.0,>=3.6.0->en-core-web-md==3.6.0) (2.4.6)\n",
      "Requirement already satisfied: catalogue<2.1.0,>=2.0.6 in /Users/samheckle/anaconda3/lib/python3.11/site-packages (from spacy<3.7.0,>=3.6.0->en-core-web-md==3.6.0) (2.0.10)\n",
      "Requirement already satisfied: typer<0.10.0,>=0.3.0 in /Users/samheckle/anaconda3/lib/python3.11/site-packages (from spacy<3.7.0,>=3.6.0->en-core-web-md==3.6.0) (0.7.0)\n",
      "Requirement already satisfied: pathy>=0.10.0 in /Users/samheckle/anaconda3/lib/python3.11/site-packages (from spacy<3.7.0,>=3.6.0->en-core-web-md==3.6.0) (0.10.2)\n",
      "Requirement already satisfied: smart-open<7.0.0,>=5.2.1 in /Users/samheckle/anaconda3/lib/python3.11/site-packages (from spacy<3.7.0,>=3.6.0->en-core-web-md==3.6.0) (5.2.1)\n",
      "Requirement already satisfied: tqdm<5.0.0,>=4.38.0 in /Users/samheckle/anaconda3/lib/python3.11/site-packages (from spacy<3.7.0,>=3.6.0->en-core-web-md==3.6.0) (4.65.0)\n",
      "Requirement already satisfied: numpy>=1.15.0 in /Users/samheckle/anaconda3/lib/python3.11/site-packages (from spacy<3.7.0,>=3.6.0->en-core-web-md==3.6.0) (1.24.3)\n",
      "Requirement already satisfied: requests<3.0.0,>=2.13.0 in /Users/samheckle/anaconda3/lib/python3.11/site-packages (from spacy<3.7.0,>=3.6.0->en-core-web-md==3.6.0) (2.31.0)\n",
      "Requirement already satisfied: pydantic!=1.8,!=1.8.1,<3.0.0,>=1.7.4 in /Users/samheckle/anaconda3/lib/python3.11/site-packages (from spacy<3.7.0,>=3.6.0->en-core-web-md==3.6.0) (1.10.12)\n",
      "Requirement already satisfied: jinja2 in /Users/samheckle/anaconda3/lib/python3.11/site-packages (from spacy<3.7.0,>=3.6.0->en-core-web-md==3.6.0) (3.1.2)\n",
      "Requirement already satisfied: setuptools in /Users/samheckle/anaconda3/lib/python3.11/site-packages (from spacy<3.7.0,>=3.6.0->en-core-web-md==3.6.0) (68.0.0)\n",
      "Requirement already satisfied: packaging>=20.0 in /Users/samheckle/anaconda3/lib/python3.11/site-packages (from spacy<3.7.0,>=3.6.0->en-core-web-md==3.6.0) (23.0)\n",
      "Requirement already satisfied: langcodes<4.0.0,>=3.2.0 in /Users/samheckle/anaconda3/lib/python3.11/site-packages (from spacy<3.7.0,>=3.6.0->en-core-web-md==3.6.0) (3.3.0)\n",
      "Requirement already satisfied: typing-extensions>=4.2.0 in /Users/samheckle/anaconda3/lib/python3.11/site-packages (from pydantic!=1.8,!=1.8.1,<3.0.0,>=1.7.4->spacy<3.7.0,>=3.6.0->en-core-web-md==3.6.0) (4.7.1)\n",
      "Requirement already satisfied: charset-normalizer<4,>=2 in /Users/samheckle/anaconda3/lib/python3.11/site-packages (from requests<3.0.0,>=2.13.0->spacy<3.7.0,>=3.6.0->en-core-web-md==3.6.0) (2.0.4)\n",
      "Requirement already satisfied: idna<4,>=2.5 in /Users/samheckle/anaconda3/lib/python3.11/site-packages (from requests<3.0.0,>=2.13.0->spacy<3.7.0,>=3.6.0->en-core-web-md==3.6.0) (3.4)\n",
      "Requirement already satisfied: urllib3<3,>=1.21.1 in /Users/samheckle/anaconda3/lib/python3.11/site-packages (from requests<3.0.0,>=2.13.0->spacy<3.7.0,>=3.6.0->en-core-web-md==3.6.0) (1.26.16)\n",
      "Requirement already satisfied: certifi>=2017.4.17 in /Users/samheckle/anaconda3/lib/python3.11/site-packages (from requests<3.0.0,>=2.13.0->spacy<3.7.0,>=3.6.0->en-core-web-md==3.6.0) (2023.7.22)\n",
      "Requirement already satisfied: blis<0.8.0,>=0.7.8 in /Users/samheckle/anaconda3/lib/python3.11/site-packages (from thinc<8.2.0,>=8.1.8->spacy<3.7.0,>=3.6.0->en-core-web-md==3.6.0) (0.7.10)\n",
      "Requirement already satisfied: confection<1.0.0,>=0.0.1 in /Users/samheckle/anaconda3/lib/python3.11/site-packages (from thinc<8.2.0,>=8.1.8->spacy<3.7.0,>=3.6.0->en-core-web-md==3.6.0) (0.1.3)\n",
      "Requirement already satisfied: click<9.0.0,>=7.1.1 in /Users/samheckle/anaconda3/lib/python3.11/site-packages (from typer<0.10.0,>=0.3.0->spacy<3.7.0,>=3.6.0->en-core-web-md==3.6.0) (8.0.4)\n",
      "Requirement already satisfied: MarkupSafe>=2.0 in /Users/samheckle/anaconda3/lib/python3.11/site-packages (from jinja2->spacy<3.7.0,>=3.6.0->en-core-web-md==3.6.0) (2.1.1)\n",
      "\u001b[38;5;2m✔ Download and installation successful\u001b[0m\n",
      "You can now load the package via spacy.load('en_core_web_md')\n"
     ]
    }
   ],
   "source": [
    "import sys\n",
    "!conda install -c conda-forge -y --prefix {sys.prefix} spacy\n",
    "import spacy\n",
    "!{sys.executable} -m spacy download en_core_web_md\n",
    "nlp = spacy.load('en_core_web_md')"
   ]
  },
  {
   "cell_type": "code",
   "execution_count": 4,
   "id": "81b77dcd",
   "metadata": {
    "scrolled": true
   },
   "outputs": [
    {
     "data": {
      "text/plain": [
       "array([ 3.7032e+00,  4.1982e+00, -5.0002e+00, -1.1322e+01,  3.1702e-02,\n",
       "       -1.0255e+00, -3.0870e+00, -3.7327e+00,  5.3875e-01,  3.5679e+00,\n",
       "        6.9276e+00,  1.5793e+00,  5.1188e-01,  3.1868e+00,  6.1534e+00,\n",
       "       -4.8941e+00, -2.9959e-01, -3.6276e+00,  2.3825e+00, -1.4402e+00,\n",
       "       -4.7577e+00,  4.3607e+00, -4.9814e+00, -3.6672e+00, -1.8052e+00,\n",
       "       -2.1888e+00, -4.2875e+00,  5.5712e+00, -5.2875e+00, -1.8346e+00,\n",
       "       -2.2015e+00, -7.7091e-01, -4.8260e+00,  1.2464e+00, -1.7945e+00,\n",
       "       -8.1280e+00,  1.9994e+00,  1.1413e+00,  3.8032e+00, -2.8783e+00,\n",
       "       -4.2136e-01, -4.4177e+00,  7.7456e+00,  4.9535e+00,  1.7402e+00,\n",
       "        1.8275e-01,  2.4218e+00, -3.1496e+00, -3.8057e-02, -2.9818e+00,\n",
       "        8.3396e-01,  1.1531e+01,  3.5684e+00,  2.5970e+00, -2.8438e+00,\n",
       "        3.2755e+00,  4.5674e+00,  3.2219e+00,  3.4206e+00,  1.1200e-01,\n",
       "        1.0303e-01, -5.8396e+00,  4.6370e-01,  2.7750e+00, -5.3713e+00,\n",
       "       -5.0247e+00, -2.0212e+00,  5.8772e-01,  1.1569e+00,  1.3224e+00,\n",
       "        4.3994e+00,  2.0444e+00,  2.1343e+00, -1.9023e+00,  2.1469e+00,\n",
       "       -2.9085e+00,  4.8429e-01, -3.3544e-01,  1.4484e+00, -1.5770e+00,\n",
       "       -1.1307e+00,  2.8320e+00,  6.2041e-01,  3.7994e+00, -3.1162e-01,\n",
       "       -6.9221e+00,  7.1342e+00,  7.2441e+00, -8.9326e+00, -2.7927e+00,\n",
       "        2.6613e-01,  6.7547e-01,  6.7293e+00, -5.8127e+00,  3.1567e+00,\n",
       "       -1.0634e+00, -1.5733e+00,  1.3534e+00,  3.9218e-01, -8.7077e+00,\n",
       "        3.4229e-02,  3.3251e+00,  4.6713e+00,  1.1865e-02,  9.8345e-01,\n",
       "       -5.3206e-02, -9.1613e+00,  6.0161e+00, -2.2223e+00,  2.5015e+00,\n",
       "       -6.0702e-01, -3.6344e-02,  7.1884e+00, -1.4431e+00,  2.6156e+00,\n",
       "       -1.0148e+00,  4.1225e+00, -1.8472e+00,  4.6292e+00, -2.6506e+00,\n",
       "       -1.8937e+00,  4.1749e+00, -9.6644e+00, -2.4813e+00, -2.7637e+00,\n",
       "       -1.0624e+00,  3.5988e+00,  4.9833e+00,  6.4499e-01,  2.5784e-01,\n",
       "        9.8727e-01, -4.2485e+00,  3.4272e-01, -2.2270e+00, -1.8957e+00,\n",
       "        8.0796e-01, -2.0265e+00, -6.1828e+00, -2.2378e+00,  2.8216e+00,\n",
       "       -2.0050e+00, -3.8924e+00, -2.9364e-01, -1.6128e+00, -6.7874e-01,\n",
       "       -1.9855e+00,  1.8221e-01,  2.1575e+00,  4.9825e-01, -1.7326e+00,\n",
       "        4.7886e+00,  2.9904e+00,  8.3447e-01, -4.7417e+00,  2.4697e+00,\n",
       "        1.3751e+00,  4.5358e+00,  6.5386e-01,  5.5413e+00,  2.3963e+00,\n",
       "        1.0031e+00, -8.0664e-01, -1.4126e+00,  2.8689e+00, -8.7339e+00,\n",
       "       -2.7457e+00, -3.1805e-01, -2.4484e-01,  3.7117e+00, -1.8636e+00,\n",
       "        2.9959e-01,  6.5062e-02, -1.5682e+00,  1.5876e+00,  6.9224e-01,\n",
       "       -6.7734e+00,  3.1065e+00,  2.3973e+00, -3.5138e+00,  3.4460e+00,\n",
       "        3.4252e+00, -5.1906e+00, -6.9372e-01,  1.9435e+00, -1.5669e-01,\n",
       "        1.9710e+00,  8.7743e-01, -8.3110e+00, -4.0306e-01, -5.0165e+00,\n",
       "       -5.6309e-02,  4.9249e+00, -7.1053e+00, -5.2338e+00,  2.3535e+00,\n",
       "       -2.5255e+00, -2.7785e+00,  5.0149e+00, -2.8405e+00, -1.8614e+00,\n",
       "        2.8818e-03,  1.3281e+00,  1.0194e+00,  3.5155e+00,  2.7971e-01,\n",
       "        1.3251e+00,  1.4386e+00, -6.1719e-01, -2.6864e+00, -3.9613e+00,\n",
       "        4.5749e+00, -1.0939e+00,  1.3289e+00, -9.5484e-01, -5.4675e+00,\n",
       "        2.1607e+00,  5.0715e-01,  1.4860e-01, -4.8571e+00, -2.2213e+00,\n",
       "       -2.3498e-01, -4.2629e+00, -8.7002e-01,  3.3796e+00, -4.3989e+00,\n",
       "        6.1047e+00,  3.7927e+00, -6.0760e+00,  3.1840e+00, -8.3104e-01,\n",
       "       -5.4015e+00, -6.2916e+00,  1.2497e+00,  1.8026e+00, -3.4535e+00,\n",
       "       -2.1652e-01, -1.4958e+00,  5.7946e-01,  2.2505e+00,  2.0868e+00,\n",
       "        3.9621e-01,  1.6076e+00,  4.0635e+00, -3.4088e+00, -1.0590e+00,\n",
       "       -3.6376e+00,  2.0501e+00,  1.4785e+00, -1.8906e+00, -2.6215e-01,\n",
       "       -5.1386e+00,  3.7029e+00, -1.8151e+00, -3.2759e+00, -5.1866e+00,\n",
       "        2.5485e-01, -4.5696e+00,  1.0147e+01, -3.0195e+00, -2.4640e+00,\n",
       "        7.5459e-01, -5.6395e+00, -5.4095e+00, -2.4363e+00, -4.3922e-01,\n",
       "       -4.0911e+00, -3.5194e+00,  1.8031e+00, -1.3644e-01,  6.7990e+00,\n",
       "        5.8461e+00,  5.3452e-01,  1.1042e+00,  3.5698e+00,  4.4668e+00,\n",
       "       -2.4537e+00, -2.1832e+00,  1.5293e+00, -1.9414e+00, -8.8675e-02,\n",
       "       -1.1825e+00, -3.9996e+00,  2.8077e+00, -1.8000e+00,  4.2545e+00,\n",
       "       -1.3813e+00, -2.2921e+00,  3.7889e+00, -1.5837e+00, -7.2078e-01,\n",
       "        4.7743e+00, -3.0923e+00,  8.4709e+00,  3.0132e-01, -5.6173e+00,\n",
       "       -5.4610e-01, -4.8459e+00,  6.0303e+00, -6.9664e+00,  3.1445e+00],\n",
       "      dtype=float32)"
      ]
     },
     "execution_count": 4,
     "metadata": {},
     "output_type": "execute_result"
    }
   ],
   "source": [
    "nlp.vocab['kitten'].vector"
   ]
  },
  {
   "cell_type": "code",
   "execution_count": 47,
   "id": "e1861df5",
   "metadata": {},
   "outputs": [],
   "source": [
    "# https://simpleneighbors.readthedocs.io/en/latest/\n",
    "from simpleneighbors import SimpleNeighbors\n",
    "lookup = SimpleNeighbors(300)"
   ]
  },
  {
   "cell_type": "code",
   "execution_count": 6,
   "id": "466669ae",
   "metadata": {},
   "outputs": [],
   "source": [
    "full_twilight = open('twilight.txt').read()\n",
    "processed_full_twilight = nlp(full_twilight)"
   ]
  },
  {
   "cell_type": "code",
   "execution_count": 43,
   "id": "b7131da4",
   "metadata": {},
   "outputs": [
    {
     "name": "stdout",
     "output_type": "stream",
     "text": [
      "I grimaced at him, resisting the impulse to stick out my tongue like a five-year-old, and looked away. \n",
      "\n",
      "\n",
      "\n"
     ]
    }
   ],
   "source": [
    "import random\n",
    "\n",
    "twilight_sents = list(processed_full_twilight.sents)\n",
    "# print(twilight_sents)\n",
    "sent_words = random.choice(twilight_sents).text.split(' ')\n",
    "\n",
    "print(\" \".join(sent_words) + '\\n')\n",
    "rand_word = random.choice(sent_words)"
   ]
  },
  {
   "cell_type": "code",
   "execution_count": 44,
   "id": "3c576779",
   "metadata": {},
   "outputs": [
    {
     "data": {
      "text/plain": [
       "'my'"
      ]
     },
     "execution_count": 44,
     "metadata": {},
     "output_type": "execute_result"
    }
   ],
   "source": [
    "rand_word"
   ]
  },
  {
   "cell_type": "code",
   "execution_count": 49,
   "id": "9bf39b4f",
   "metadata": {},
   "outputs": [],
   "source": [
    "lookup = SimpleNeighbors(300)\n",
    "for word in sent_words:\n",
    "    if(nlp.vocab[word].has_vector):\n",
    "        lookup.add_one(word, nlp.vocab[word].vector)\n",
    "lookup.build()"
   ]
  },
  {
   "cell_type": "code",
   "execution_count": 50,
   "id": "dad8e2a4",
   "metadata": {},
   "outputs": [
    {
     "data": {
      "text/plain": [
       "['grimaced',\n",
       " 'looked',\n",
       " 'the',\n",
       " 'and',\n",
       " 'resisting',\n",
       " 'like',\n",
       " 'out',\n",
       " 'a',\n",
       " 'stick',\n",
       " 'impulse',\n",
       " 'tongue',\n",
       " 'my']"
      ]
     },
     "execution_count": 50,
     "metadata": {},
     "output_type": "execute_result"
    }
   ],
   "source": [
    "lookup.nearest(nlp.vocab[\"grimaced\"].vector)"
   ]
  },
  {
   "cell_type": "code",
   "execution_count": 51,
   "id": "ac9b05f4",
   "metadata": {},
   "outputs": [],
   "source": [
    "sentence = nlp(\"i have thoughts and feelings about twilight, none of which are good nor bad\")"
   ]
  },
  {
   "cell_type": "code",
   "execution_count": 52,
   "id": "954e2f22",
   "metadata": {
    "scrolled": true
   },
   "outputs": [
    {
     "data": {
      "text/plain": [
       "array([-2.48144817e+00, -1.64784551e+00, -2.37141180e+00, -5.99428713e-01,\n",
       "        2.25814795e+00,  1.13769674e+00,  1.33686805e+00,  5.73392677e+00,\n",
       "       -1.42235589e+00, -9.24667954e-01,  5.27453947e+00,  2.90325141e+00,\n",
       "       -3.19089293e+00, -1.59097970e-01,  2.10450721e+00, -1.17292084e-01,\n",
       "       -3.61420661e-01, -1.20597970e+00, -1.88235986e+00, -3.09358573e+00,\n",
       "        2.18345866e-01, -3.54103357e-01, -2.83992624e+00, -1.32315874e+00,\n",
       "       -1.86130777e-01, -1.83106422e+00, -1.06063187e+00, -7.23728418e-01,\n",
       "       -8.43382120e-01,  2.35098338e+00,  1.55981529e+00, -2.42465281e+00,\n",
       "       -2.35279870e+00, -9.45070505e-01, -1.18294156e+00, -8.29067349e-01,\n",
       "       -1.10782647e+00,  1.93488610e+00,  2.89004874e+00,  1.93030334e+00,\n",
       "        5.79432607e-01,  1.92141151e+00, -5.57781994e-01, -8.95606756e-01,\n",
       "       -1.73531747e+00,  2.42386389e+00,  9.24326658e-01, -3.36840105e+00,\n",
       "       -5.75446010e-01,  3.04466033e+00, -4.81947482e-01,  1.66196132e+00,\n",
       "        5.74059308e-01, -5.79621315e+00, -1.75940263e+00,  5.38305342e-01,\n",
       "        3.45839322e-01,  2.48970008e+00,  2.27763677e+00, -6.75495446e-01,\n",
       "        2.16964030e+00, -8.07472646e-01, -1.20402686e-01, -2.60151649e+00,\n",
       "        1.35299087e+00,  2.31247997e+00, -2.70842123e+00, -3.37059331e+00,\n",
       "        1.06345034e+00,  2.00618339e+00, -5.91938645e-02,  1.39586270e+00,\n",
       "       -1.78757811e+00, -1.01925862e+00,  2.27265269e-01,  3.50859873e-02,\n",
       "       -4.86100960e+00,  2.04739928e+00, -1.52021194e+00,  1.90554693e-01,\n",
       "       -3.20643711e+00,  1.76436388e+00,  1.50590134e+00,  7.06053600e-02,\n",
       "        2.32681608e+00,  1.88536987e-01, -1.89674532e+00, -3.43171620e+00,\n",
       "        1.19633973e+00, -3.86999510e-02, -3.18611473e-01,  5.01131833e-01,\n",
       "        3.03119016e+00, -4.07756090e+00, -6.85495377e-01, -1.99990618e+00,\n",
       "        3.70775282e-01, -2.51420927e+00, -2.40252405e-01,  1.37565339e+00,\n",
       "        1.94956338e+00,  2.59501243e+00, -8.18739086e-02,  2.57268095e+00,\n",
       "       -1.40883660e+00,  3.99948001e+00, -1.68381929e+00, -1.13811541e+00,\n",
       "       -2.82010555e-01, -7.75260746e-01,  2.16882992e+00, -5.53448677e-01,\n",
       "       -1.15467882e+00, -4.59206641e-01,  1.46508694e-01,  2.94523382e+00,\n",
       "       -8.04361999e-01,  6.43081903e-01, -1.50324070e+00, -2.34167123e+00,\n",
       "       -1.42888820e+00, -1.70289814e+00, -4.62394089e-01,  1.82528198e+00,\n",
       "       -3.07595277e+00, -3.96984005e+00,  2.97019184e-01, -1.82800329e+00,\n",
       "        1.25616407e+00,  1.27033338e-01, -1.78426945e+00,  1.22560072e+00,\n",
       "        2.97768402e+00,  3.09318662e-01,  8.38396072e-01,  2.58362746e+00,\n",
       "       -3.29624248e+00, -1.63373017e+00,  3.11668062e+00, -2.23503017e+00,\n",
       "       -1.10620868e+00,  4.55360077e-02,  9.28484738e-01,  1.73485398e+00,\n",
       "       -1.71001494e+00, -2.28754830e+00, -1.88625860e+00, -1.46402669e+00,\n",
       "       -8.36116087e-04,  2.87260681e-01, -1.33542264e+00,  1.01401663e+00,\n",
       "       -1.28018880e+00,  1.60196686e+00, -2.19512010e+00,  1.24060476e+00,\n",
       "        2.71952128e+00, -1.20573938e+00, -1.61700332e+00, -8.14720750e-01,\n",
       "       -1.20925641e+00, -1.33587408e+00, -1.41913080e+00,  1.88418701e-01,\n",
       "       -3.10906076e+00, -9.46607292e-01, -1.81180012e+00,  2.68245578e-01,\n",
       "       -1.17179668e+00,  2.06246659e-01, -1.10606045e-01,  2.30547576e-03,\n",
       "        1.81482136e+00, -5.85924506e-01,  4.56184775e-01, -1.20861161e+00,\n",
       "       -6.34136617e-01,  2.69369149e+00, -1.14912343e+00, -6.11480772e-01,\n",
       "       -5.38363278e-01, -1.10135019e+00,  3.78385019e+00, -3.75599533e-01,\n",
       "       -1.21593796e-01,  1.49577868e+00, -1.98980582e+00, -4.23206538e-01,\n",
       "        8.58571172e-01,  1.59551179e+00, -4.51072872e-01, -7.03674197e-01,\n",
       "        7.15111971e-01, -3.35711300e-01, -3.28303337e-01,  7.63240159e-02,\n",
       "       -4.39037275e+00,  8.46114695e-01,  1.31194413e+00,  2.18869090e+00,\n",
       "       -9.79885995e-01, -1.08058035e+00, -1.46345127e+00, -5.16855955e-01,\n",
       "        1.58499789e+00,  2.62234235e+00, -2.29797673e+00,  2.52960533e-01,\n",
       "        6.90798998e-01, -1.95842409e+00,  9.49797273e-01,  1.81604731e+00,\n",
       "       -7.44262695e-01,  2.78468668e-01, -3.92068714e-01,  2.85633755e+00,\n",
       "       -1.16451800e+00, -2.25204968e+00,  9.95952725e-01,  1.22877538e+00,\n",
       "       -2.43770909e+00,  2.52243352e+00,  7.45317340e-01,  1.77142930e+00,\n",
       "       -1.55888259e+00, -8.22061673e-02, -7.27117956e-01,  2.44476867e+00,\n",
       "        2.66262007e+00,  1.54527962e+00, -1.50913343e-01, -3.33208823e+00,\n",
       "        3.19625974e-01,  1.21017921e+00,  1.58501399e+00,  1.86438799e+00,\n",
       "       -2.71660805e-01,  2.79827476e+00, -4.90323186e-01, -5.03170550e-01,\n",
       "       -4.67442006e-01,  1.09666502e-02,  1.45564127e+00, -5.07065468e-03,\n",
       "       -4.49268460e-01, -2.29445025e-01, -2.47405553e+00,  2.81362027e-01,\n",
       "        1.23459673e+00,  3.13205194e+00,  6.21469431e-02,  2.96249956e-01,\n",
       "       -5.84911442e+00,  1.02732337e+00,  4.47309345e-01, -5.19702005e+00,\n",
       "        5.22386134e-01,  6.26484752e-01, -1.48063123e+00,  1.05710125e+00,\n",
       "       -9.99799594e-02,  3.47271585e+00,  3.18974805e+00,  2.67041159e+00,\n",
       "        3.48467398e+00,  1.15674067e+00,  2.14385867e+00,  2.82410479e+00,\n",
       "       -3.41437197e+00,  7.67836034e-01,  1.52522874e+00, -1.09802520e+00,\n",
       "       -6.91101849e-01, -1.26650012e+00, -6.76682651e-01, -1.00193433e-01,\n",
       "        2.88895679e+00, -1.97867906e+00, -1.56326681e-01,  2.20091844e+00,\n",
       "        4.95539337e-01, -8.19872737e-01,  2.70026684e+00,  2.30213952e+00,\n",
       "        9.86281335e-01, -9.47241247e-01, -1.08198993e-01,  1.07127583e+00,\n",
       "        4.59373355e-01, -8.35703254e-01,  1.64098799e+00, -1.54842806e+00,\n",
       "        1.56864607e+00, -3.09233332e+00, -1.54048729e+00, -1.14703739e+00,\n",
       "       -2.30611354e-01, -2.15355515e+00, -3.90105486e+00,  1.22132790e+00],\n",
       "      dtype=float32)"
      ]
     },
     "execution_count": 52,
     "metadata": {},
     "output_type": "execute_result"
    }
   ],
   "source": [
    "sentence.vector"
   ]
  },
  {
   "cell_type": "markdown",
   "id": "251eb449",
   "metadata": {},
   "source": [
    "### incorrect!!!!! because the twilight_sents was already parsed data\n",
    "lookup2 = SimpleNeighbors(300)\n",
    "for word in twilight_sents:\n",
    "    if(nlp.vocab[word.text].has_vector):\n",
    "        lookup2.add_one(word, nlp.vocab[word.text].vector)\n",
    "lookup2.build()"
   ]
  },
  {
   "cell_type": "code",
   "execution_count": 58,
   "id": "15121795",
   "metadata": {},
   "outputs": [
    {
     "data": {
      "text/plain": [
       "[\", \", \", \", \", \", \", \", \", \", \", \"]"
      ]
     },
     "execution_count": 58,
     "metadata": {},
     "output_type": "execute_result"
    }
   ],
   "source": [
    "lookup2.nearest(nlp.vocab[\"word\"].vector)"
   ]
  },
  {
   "cell_type": "code",
   "execution_count": 67,
   "id": "027bda91",
   "metadata": {},
   "outputs": [],
   "source": [
    "sent_clean = SimpleNeighbors(300)\n",
    "for sent in processed_full_twilight.sents:\n",
    "    sent_clean.add_one(sent.text.replace(\"\\n\", \" \"), sent.vector)\n",
    "sent_clean.build()"
   ]
  },
  {
   "cell_type": "code",
   "execution_count": 69,
   "id": "ba2bd874",
   "metadata": {},
   "outputs": [
    {
     "data": {
      "text/plain": [
       "['If I\\'m not human !\"  ',\n",
       " 'What if I\\'m the bad guy?\"',\n",
       " '\"You don\\'t care if I\\'m a monster?',\n",
       " '\"Do you mind if I drive Bella home tonight?',\n",
       " \"You'll never guess !\",\n",
       " 'What do you want?\"   I looked down; my ears were hot.',\n",
       " 'Can you hear me, Bella?',\n",
       " 'Do you hear me?',\n",
       " 'Or can I  help you get somewhere?\"   ',\n",
       " 'So I\\'d rather you stayed near  me.\"',\n",
       " \"He'd probably just drag me along anyway if I did.   \",\n",
       " 'Do you know where I  put it?']"
      ]
     },
     "execution_count": 69,
     "metadata": {},
     "output_type": "execute_result"
    }
   ],
   "source": [
    "sent_clean.nearest(nlp.vocab[\"kitten\"].vector)"
   ]
  },
  {
   "cell_type": "code",
   "execution_count": 71,
   "id": "38181c5c",
   "metadata": {},
   "outputs": [
    {
     "data": {
      "text/plain": [
       "[\"I wasn't in the mood to go on a real crying jag.\",\n",
       " 'The engine started quickly, to  my relief, but loudly, roaring to life and then idling at top volume.',\n",
       " \"I looked at the map in the truck, trying to memorize it now; hopefully I wouldn't have to walk around with  it stuck in front of my nose all day.\",\n",
       " 'Once I got around the cafeteria, building three was easy to spot.',\n",
       " 'It was harder for my new classmates to stare at me in the back, but somehow, they managed.',\n",
       " 'We got our jackets and headed out into the rain, which had picked up.',\n",
       " 'One girl sat next to me in both Trig and Spanish, and she walked with me to the cafeteria for lunch.',\n",
       " 'They continued to look at the walls and not eat.   ',\n",
       " 'We walked to class  together in silence.',\n",
       " 'When we entered the classroom, Angela went to sit at a black-topped lab table exactly like the ones I  was used to.',\n",
       " 'I stood pressed against the back wall, waiting for the  receptionist to be free.   ',\n",
       " 'When I got to the truck, it was almost the last car in the lot.']"
      ]
     },
     "execution_count": 71,
     "metadata": {},
     "output_type": "execute_result"
    }
   ],
   "source": [
    "sent_clean.nearest(nlp.vocab[\"i have thoughts and feelings about twilight, none of which are good nor bad\"].vector)"
   ]
  }
 ],
 "metadata": {
  "kernelspec": {
   "display_name": "Python 3 (ipykernel)",
   "language": "python",
   "name": "python3"
  },
  "language_info": {
   "codemirror_mode": {
    "name": "ipython",
    "version": 3
   },
   "file_extension": ".py",
   "mimetype": "text/x-python",
   "name": "python",
   "nbconvert_exporter": "python",
   "pygments_lexer": "ipython3",
   "version": "3.11.4"
  }
 },
 "nbformat": 4,
 "nbformat_minor": 5
}
